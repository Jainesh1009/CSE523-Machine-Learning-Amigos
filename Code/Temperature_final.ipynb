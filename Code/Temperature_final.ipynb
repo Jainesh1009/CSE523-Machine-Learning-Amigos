{
  "nbformat": 4,
  "nbformat_minor": 0,
  "metadata": {
    "colab": {
      "name": "Temperature_final.ipynb",
      "provenance": [],
      "collapsed_sections": []
    },
    "kernelspec": {
      "name": "python3",
      "display_name": "Python 3"
    },
    "accelerator": "GPU"
  },
  "cells": [
    {
      "cell_type": "markdown",
      "metadata": {
        "id": "ndn7H3jDpUI9"
      },
      "source": [
        "import all required libraries"
      ]
    },
    {
      "cell_type": "code",
      "metadata": {
        "id": "FSVmQ5xGI08G"
      },
      "source": [
        "import pandas as pd\n",
        "import numpy as np\n",
        "import matplotlib.pyplot as plt\n",
        "import seaborn as sns\n",
        "import sklearn\n",
        "from sklearn.feature_selection import SelectKBest\n",
        "from sklearn.feature_selection import chi2"
      ],
      "execution_count": 1,
      "outputs": []
    },
    {
      "cell_type": "markdown",
      "metadata": {
        "id": "SKH8MLz9p4Yr"
      },
      "source": [
        "Read the dataset"
      ]
    },
    {
      "cell_type": "code",
      "metadata": {
        "id": "By1fY5yEL_rK",
        "colab": {
          "base_uri": "https://localhost:8080/",
          "height": 305
        },
        "outputId": "a2aae574-15af-4a96-91d8-2ffd9cafb65e"
      },
      "source": [
        "from google.colab import files\n",
        "#uploaded = files.upload()\n",
        "data=pd.read_csv(\"/content/ahmedabad.csv\")\n",
        "data.head()"
      ],
      "execution_count": 38,
      "outputs": [
        {
          "output_type": "execute_result",
          "data": {
            "text/html": [
              "<div>\n",
              "<style scoped>\n",
              "    .dataframe tbody tr th:only-of-type {\n",
              "        vertical-align: middle;\n",
              "    }\n",
              "\n",
              "    .dataframe tbody tr th {\n",
              "        vertical-align: top;\n",
              "    }\n",
              "\n",
              "    .dataframe thead th {\n",
              "        text-align: right;\n",
              "    }\n",
              "</style>\n",
              "<table border=\"1\" class=\"dataframe\">\n",
              "  <thead>\n",
              "    <tr style=\"text-align: right;\">\n",
              "      <th></th>\n",
              "      <th>date_time</th>\n",
              "      <th>maxtempC</th>\n",
              "      <th>mintempC</th>\n",
              "      <th>totalSnow_cm</th>\n",
              "      <th>sunHour</th>\n",
              "      <th>uvIndex</th>\n",
              "      <th>moon_illumination</th>\n",
              "      <th>moonrise</th>\n",
              "      <th>moonset</th>\n",
              "      <th>sunrise</th>\n",
              "      <th>sunset</th>\n",
              "      <th>DewPointC</th>\n",
              "      <th>FeelsLikeC</th>\n",
              "      <th>HeatIndexC</th>\n",
              "      <th>WindChillC</th>\n",
              "      <th>WindGustKmph</th>\n",
              "      <th>cloudcover</th>\n",
              "      <th>humidity</th>\n",
              "      <th>precipMM</th>\n",
              "      <th>pressure</th>\n",
              "      <th>tempC</th>\n",
              "      <th>visibility</th>\n",
              "      <th>winddirDegree</th>\n",
              "      <th>windspeedKmph</th>\n",
              "      <th>location</th>\n",
              "    </tr>\n",
              "  </thead>\n",
              "  <tbody>\n",
              "    <tr>\n",
              "      <th>0</th>\n",
              "      <td>1/1/2015</td>\n",
              "      <td>27</td>\n",
              "      <td>15</td>\n",
              "      <td>0</td>\n",
              "      <td>10.8</td>\n",
              "      <td>6</td>\n",
              "      <td>72</td>\n",
              "      <td>3:07 PM</td>\n",
              "      <td>3:36 AM</td>\n",
              "      <td>7:21 AM</td>\n",
              "      <td>6:05 PM</td>\n",
              "      <td>12</td>\n",
              "      <td>20</td>\n",
              "      <td>20</td>\n",
              "      <td>20</td>\n",
              "      <td>33</td>\n",
              "      <td>11</td>\n",
              "      <td>61</td>\n",
              "      <td>0.4</td>\n",
              "      <td>1011</td>\n",
              "      <td>27</td>\n",
              "      <td>10</td>\n",
              "      <td>62</td>\n",
              "      <td>20</td>\n",
              "      <td>ahmedabad</td>\n",
              "    </tr>\n",
              "    <tr>\n",
              "      <th>1</th>\n",
              "      <td>1/2/2015</td>\n",
              "      <td>25</td>\n",
              "      <td>14</td>\n",
              "      <td>0</td>\n",
              "      <td>10.9</td>\n",
              "      <td>6</td>\n",
              "      <td>80</td>\n",
              "      <td>3:55 PM</td>\n",
              "      <td>4:31 AM</td>\n",
              "      <td>7:21 AM</td>\n",
              "      <td>6:06 PM</td>\n",
              "      <td>12</td>\n",
              "      <td>19</td>\n",
              "      <td>20</td>\n",
              "      <td>19</td>\n",
              "      <td>26</td>\n",
              "      <td>6</td>\n",
              "      <td>65</td>\n",
              "      <td>0.0</td>\n",
              "      <td>1014</td>\n",
              "      <td>25</td>\n",
              "      <td>10</td>\n",
              "      <td>70</td>\n",
              "      <td>16</td>\n",
              "      <td>ahmedabad</td>\n",
              "    </tr>\n",
              "    <tr>\n",
              "      <th>2</th>\n",
              "      <td>1/3/2015</td>\n",
              "      <td>26</td>\n",
              "      <td>15</td>\n",
              "      <td>0</td>\n",
              "      <td>10.9</td>\n",
              "      <td>6</td>\n",
              "      <td>87</td>\n",
              "      <td>4:45 PM</td>\n",
              "      <td>5:26 AM</td>\n",
              "      <td>7:21 AM</td>\n",
              "      <td>6:07 PM</td>\n",
              "      <td>13</td>\n",
              "      <td>21</td>\n",
              "      <td>21</td>\n",
              "      <td>21</td>\n",
              "      <td>14</td>\n",
              "      <td>1</td>\n",
              "      <td>60</td>\n",
              "      <td>0.0</td>\n",
              "      <td>1015</td>\n",
              "      <td>26</td>\n",
              "      <td>10</td>\n",
              "      <td>90</td>\n",
              "      <td>9</td>\n",
              "      <td>ahmedabad</td>\n",
              "    </tr>\n",
              "    <tr>\n",
              "      <th>3</th>\n",
              "      <td>1/4/2015</td>\n",
              "      <td>27</td>\n",
              "      <td>16</td>\n",
              "      <td>0</td>\n",
              "      <td>10.9</td>\n",
              "      <td>6</td>\n",
              "      <td>94</td>\n",
              "      <td>5:37 PM</td>\n",
              "      <td>6:17 AM</td>\n",
              "      <td>7:22 AM</td>\n",
              "      <td>6:07 PM</td>\n",
              "      <td>9</td>\n",
              "      <td>21</td>\n",
              "      <td>21</td>\n",
              "      <td>22</td>\n",
              "      <td>22</td>\n",
              "      <td>0</td>\n",
              "      <td>46</td>\n",
              "      <td>0.0</td>\n",
              "      <td>1017</td>\n",
              "      <td>27</td>\n",
              "      <td>10</td>\n",
              "      <td>68</td>\n",
              "      <td>13</td>\n",
              "      <td>ahmedabad</td>\n",
              "    </tr>\n",
              "    <tr>\n",
              "      <th>4</th>\n",
              "      <td>1/5/2015</td>\n",
              "      <td>27</td>\n",
              "      <td>14</td>\n",
              "      <td>0</td>\n",
              "      <td>10.9</td>\n",
              "      <td>6</td>\n",
              "      <td>100</td>\n",
              "      <td>6:28 PM</td>\n",
              "      <td>7:07 AM</td>\n",
              "      <td>7:22 AM</td>\n",
              "      <td>6:08 PM</td>\n",
              "      <td>5</td>\n",
              "      <td>20</td>\n",
              "      <td>20</td>\n",
              "      <td>20</td>\n",
              "      <td>24</td>\n",
              "      <td>0</td>\n",
              "      <td>40</td>\n",
              "      <td>0.0</td>\n",
              "      <td>1017</td>\n",
              "      <td>27</td>\n",
              "      <td>10</td>\n",
              "      <td>65</td>\n",
              "      <td>14</td>\n",
              "      <td>ahmedabad</td>\n",
              "    </tr>\n",
              "  </tbody>\n",
              "</table>\n",
              "</div>"
            ],
            "text/plain": [
              "  date_time  maxtempC  mintempC  ...  winddirDegree  windspeedKmph   location\n",
              "0  1/1/2015        27        15  ...             62             20  ahmedabad\n",
              "1  1/2/2015        25        14  ...             70             16  ahmedabad\n",
              "2  1/3/2015        26        15  ...             90              9  ahmedabad\n",
              "3  1/4/2015        27        16  ...             68             13  ahmedabad\n",
              "4  1/5/2015        27        14  ...             65             14  ahmedabad\n",
              "\n",
              "[5 rows x 25 columns]"
            ]
          },
          "metadata": {
            "tags": []
          },
          "execution_count": 38
        }
      ]
    },
    {
      "cell_type": "markdown",
      "metadata": {
        "id": "-SM1nfo9vPOz"
      },
      "source": [
        "**Set the position of target feature**"
      ]
    },
    {
      "cell_type": "code",
      "metadata": {
        "colab": {
          "base_uri": "https://localhost:8080/",
          "height": 600
        },
        "id": "v8Y6Ws7vuR--",
        "outputId": "427f99b6-24dd-4642-d736-f73350f2a47b"
      },
      "source": [
        "t1 = data['tempC']\n",
        "data.drop(labels=['tempC'], axis=1, inplace = True)\n",
        "data.insert(1, 'tempC', t1)\n",
        "data"
      ],
      "execution_count": 39,
      "outputs": [
        {
          "output_type": "execute_result",
          "data": {
            "text/html": [
              "<div>\n",
              "<style scoped>\n",
              "    .dataframe tbody tr th:only-of-type {\n",
              "        vertical-align: middle;\n",
              "    }\n",
              "\n",
              "    .dataframe tbody tr th {\n",
              "        vertical-align: top;\n",
              "    }\n",
              "\n",
              "    .dataframe thead th {\n",
              "        text-align: right;\n",
              "    }\n",
              "</style>\n",
              "<table border=\"1\" class=\"dataframe\">\n",
              "  <thead>\n",
              "    <tr style=\"text-align: right;\">\n",
              "      <th></th>\n",
              "      <th>date_time</th>\n",
              "      <th>tempC</th>\n",
              "      <th>maxtempC</th>\n",
              "      <th>mintempC</th>\n",
              "      <th>totalSnow_cm</th>\n",
              "      <th>sunHour</th>\n",
              "      <th>uvIndex</th>\n",
              "      <th>moon_illumination</th>\n",
              "      <th>moonrise</th>\n",
              "      <th>moonset</th>\n",
              "      <th>sunrise</th>\n",
              "      <th>sunset</th>\n",
              "      <th>DewPointC</th>\n",
              "      <th>FeelsLikeC</th>\n",
              "      <th>HeatIndexC</th>\n",
              "      <th>WindChillC</th>\n",
              "      <th>WindGustKmph</th>\n",
              "      <th>cloudcover</th>\n",
              "      <th>humidity</th>\n",
              "      <th>precipMM</th>\n",
              "      <th>pressure</th>\n",
              "      <th>visibility</th>\n",
              "      <th>winddirDegree</th>\n",
              "      <th>windspeedKmph</th>\n",
              "      <th>location</th>\n",
              "    </tr>\n",
              "  </thead>\n",
              "  <tbody>\n",
              "    <tr>\n",
              "      <th>0</th>\n",
              "      <td>1/1/2015</td>\n",
              "      <td>27</td>\n",
              "      <td>27</td>\n",
              "      <td>15</td>\n",
              "      <td>0</td>\n",
              "      <td>10.8</td>\n",
              "      <td>6</td>\n",
              "      <td>72</td>\n",
              "      <td>3:07 PM</td>\n",
              "      <td>3:36 AM</td>\n",
              "      <td>7:21 AM</td>\n",
              "      <td>6:05 PM</td>\n",
              "      <td>12</td>\n",
              "      <td>20</td>\n",
              "      <td>20</td>\n",
              "      <td>20</td>\n",
              "      <td>33</td>\n",
              "      <td>11</td>\n",
              "      <td>61</td>\n",
              "      <td>0.4</td>\n",
              "      <td>1011</td>\n",
              "      <td>10</td>\n",
              "      <td>62</td>\n",
              "      <td>20</td>\n",
              "      <td>ahmedabad</td>\n",
              "    </tr>\n",
              "    <tr>\n",
              "      <th>1</th>\n",
              "      <td>1/2/2015</td>\n",
              "      <td>25</td>\n",
              "      <td>25</td>\n",
              "      <td>14</td>\n",
              "      <td>0</td>\n",
              "      <td>10.9</td>\n",
              "      <td>6</td>\n",
              "      <td>80</td>\n",
              "      <td>3:55 PM</td>\n",
              "      <td>4:31 AM</td>\n",
              "      <td>7:21 AM</td>\n",
              "      <td>6:06 PM</td>\n",
              "      <td>12</td>\n",
              "      <td>19</td>\n",
              "      <td>20</td>\n",
              "      <td>19</td>\n",
              "      <td>26</td>\n",
              "      <td>6</td>\n",
              "      <td>65</td>\n",
              "      <td>0.0</td>\n",
              "      <td>1014</td>\n",
              "      <td>10</td>\n",
              "      <td>70</td>\n",
              "      <td>16</td>\n",
              "      <td>ahmedabad</td>\n",
              "    </tr>\n",
              "    <tr>\n",
              "      <th>2</th>\n",
              "      <td>1/3/2015</td>\n",
              "      <td>26</td>\n",
              "      <td>26</td>\n",
              "      <td>15</td>\n",
              "      <td>0</td>\n",
              "      <td>10.9</td>\n",
              "      <td>6</td>\n",
              "      <td>87</td>\n",
              "      <td>4:45 PM</td>\n",
              "      <td>5:26 AM</td>\n",
              "      <td>7:21 AM</td>\n",
              "      <td>6:07 PM</td>\n",
              "      <td>13</td>\n",
              "      <td>21</td>\n",
              "      <td>21</td>\n",
              "      <td>21</td>\n",
              "      <td>14</td>\n",
              "      <td>1</td>\n",
              "      <td>60</td>\n",
              "      <td>0.0</td>\n",
              "      <td>1015</td>\n",
              "      <td>10</td>\n",
              "      <td>90</td>\n",
              "      <td>9</td>\n",
              "      <td>ahmedabad</td>\n",
              "    </tr>\n",
              "    <tr>\n",
              "      <th>3</th>\n",
              "      <td>1/4/2015</td>\n",
              "      <td>27</td>\n",
              "      <td>27</td>\n",
              "      <td>16</td>\n",
              "      <td>0</td>\n",
              "      <td>10.9</td>\n",
              "      <td>6</td>\n",
              "      <td>94</td>\n",
              "      <td>5:37 PM</td>\n",
              "      <td>6:17 AM</td>\n",
              "      <td>7:22 AM</td>\n",
              "      <td>6:07 PM</td>\n",
              "      <td>9</td>\n",
              "      <td>21</td>\n",
              "      <td>21</td>\n",
              "      <td>22</td>\n",
              "      <td>22</td>\n",
              "      <td>0</td>\n",
              "      <td>46</td>\n",
              "      <td>0.0</td>\n",
              "      <td>1017</td>\n",
              "      <td>10</td>\n",
              "      <td>68</td>\n",
              "      <td>13</td>\n",
              "      <td>ahmedabad</td>\n",
              "    </tr>\n",
              "    <tr>\n",
              "      <th>4</th>\n",
              "      <td>1/5/2015</td>\n",
              "      <td>27</td>\n",
              "      <td>27</td>\n",
              "      <td>14</td>\n",
              "      <td>0</td>\n",
              "      <td>10.9</td>\n",
              "      <td>6</td>\n",
              "      <td>100</td>\n",
              "      <td>6:28 PM</td>\n",
              "      <td>7:07 AM</td>\n",
              "      <td>7:22 AM</td>\n",
              "      <td>6:08 PM</td>\n",
              "      <td>5</td>\n",
              "      <td>20</td>\n",
              "      <td>20</td>\n",
              "      <td>20</td>\n",
              "      <td>24</td>\n",
              "      <td>0</td>\n",
              "      <td>40</td>\n",
              "      <td>0.0</td>\n",
              "      <td>1017</td>\n",
              "      <td>10</td>\n",
              "      <td>65</td>\n",
              "      <td>14</td>\n",
              "      <td>ahmedabad</td>\n",
              "    </tr>\n",
              "    <tr>\n",
              "      <th>...</th>\n",
              "      <td>...</td>\n",
              "      <td>...</td>\n",
              "      <td>...</td>\n",
              "      <td>...</td>\n",
              "      <td>...</td>\n",
              "      <td>...</td>\n",
              "      <td>...</td>\n",
              "      <td>...</td>\n",
              "      <td>...</td>\n",
              "      <td>...</td>\n",
              "      <td>...</td>\n",
              "      <td>...</td>\n",
              "      <td>...</td>\n",
              "      <td>...</td>\n",
              "      <td>...</td>\n",
              "      <td>...</td>\n",
              "      <td>...</td>\n",
              "      <td>...</td>\n",
              "      <td>...</td>\n",
              "      <td>...</td>\n",
              "      <td>...</td>\n",
              "      <td>...</td>\n",
              "      <td>...</td>\n",
              "      <td>...</td>\n",
              "      <td>...</td>\n",
              "    </tr>\n",
              "    <tr>\n",
              "      <th>2187</th>\n",
              "      <td>12/27/2020</td>\n",
              "      <td>29</td>\n",
              "      <td>29</td>\n",
              "      <td>21</td>\n",
              "      <td>0</td>\n",
              "      <td>10.8</td>\n",
              "      <td>7</td>\n",
              "      <td>85</td>\n",
              "      <td>3:54 PM</td>\n",
              "      <td>4:40 AM</td>\n",
              "      <td>7:19 AM</td>\n",
              "      <td>6:03 PM</td>\n",
              "      <td>6</td>\n",
              "      <td>25</td>\n",
              "      <td>25</td>\n",
              "      <td>24</td>\n",
              "      <td>17</td>\n",
              "      <td>0</td>\n",
              "      <td>33</td>\n",
              "      <td>0.0</td>\n",
              "      <td>1013</td>\n",
              "      <td>10</td>\n",
              "      <td>219</td>\n",
              "      <td>11</td>\n",
              "      <td>ahmedabad</td>\n",
              "    </tr>\n",
              "    <tr>\n",
              "      <th>2188</th>\n",
              "      <td>12/28/2020</td>\n",
              "      <td>25</td>\n",
              "      <td>25</td>\n",
              "      <td>14</td>\n",
              "      <td>0</td>\n",
              "      <td>10.8</td>\n",
              "      <td>6</td>\n",
              "      <td>92</td>\n",
              "      <td>4:37 PM</td>\n",
              "      <td>5:34 AM</td>\n",
              "      <td>7:19 AM</td>\n",
              "      <td>6:03 PM</td>\n",
              "      <td>-9</td>\n",
              "      <td>19</td>\n",
              "      <td>20</td>\n",
              "      <td>19</td>\n",
              "      <td>20</td>\n",
              "      <td>0</td>\n",
              "      <td>15</td>\n",
              "      <td>0.0</td>\n",
              "      <td>1015</td>\n",
              "      <td>10</td>\n",
              "      <td>100</td>\n",
              "      <td>13</td>\n",
              "      <td>ahmedabad</td>\n",
              "    </tr>\n",
              "    <tr>\n",
              "      <th>2189</th>\n",
              "      <td>12/29/2020</td>\n",
              "      <td>25</td>\n",
              "      <td>25</td>\n",
              "      <td>12</td>\n",
              "      <td>0</td>\n",
              "      <td>10.8</td>\n",
              "      <td>5</td>\n",
              "      <td>100</td>\n",
              "      <td>5:26 PM</td>\n",
              "      <td>6:29 AM</td>\n",
              "      <td>7:20 AM</td>\n",
              "      <td>6:04 PM</td>\n",
              "      <td>-7</td>\n",
              "      <td>17</td>\n",
              "      <td>18</td>\n",
              "      <td>17</td>\n",
              "      <td>26</td>\n",
              "      <td>0</td>\n",
              "      <td>17</td>\n",
              "      <td>0.0</td>\n",
              "      <td>1015</td>\n",
              "      <td>10</td>\n",
              "      <td>49</td>\n",
              "      <td>16</td>\n",
              "      <td>ahmedabad</td>\n",
              "    </tr>\n",
              "    <tr>\n",
              "      <th>2190</th>\n",
              "      <td>12/30/2020</td>\n",
              "      <td>25</td>\n",
              "      <td>25</td>\n",
              "      <td>13</td>\n",
              "      <td>0</td>\n",
              "      <td>10.8</td>\n",
              "      <td>6</td>\n",
              "      <td>100</td>\n",
              "      <td>6:18 PM</td>\n",
              "      <td>7:24 AM</td>\n",
              "      <td>7:20 AM</td>\n",
              "      <td>6:04 PM</td>\n",
              "      <td>-3</td>\n",
              "      <td>18</td>\n",
              "      <td>19</td>\n",
              "      <td>18</td>\n",
              "      <td>27</td>\n",
              "      <td>0</td>\n",
              "      <td>24</td>\n",
              "      <td>0.0</td>\n",
              "      <td>1015</td>\n",
              "      <td>10</td>\n",
              "      <td>44</td>\n",
              "      <td>17</td>\n",
              "      <td>ahmedabad</td>\n",
              "    </tr>\n",
              "    <tr>\n",
              "      <th>2191</th>\n",
              "      <td>12/31/2020</td>\n",
              "      <td>28</td>\n",
              "      <td>28</td>\n",
              "      <td>15</td>\n",
              "      <td>0</td>\n",
              "      <td>10.8</td>\n",
              "      <td>6</td>\n",
              "      <td>89</td>\n",
              "      <td>7:15 PM</td>\n",
              "      <td>8:17 AM</td>\n",
              "      <td>7:21 AM</td>\n",
              "      <td>6:05 PM</td>\n",
              "      <td>4</td>\n",
              "      <td>22</td>\n",
              "      <td>22</td>\n",
              "      <td>21</td>\n",
              "      <td>28</td>\n",
              "      <td>1</td>\n",
              "      <td>33</td>\n",
              "      <td>0.0</td>\n",
              "      <td>1014</td>\n",
              "      <td>10</td>\n",
              "      <td>51</td>\n",
              "      <td>18</td>\n",
              "      <td>ahmedabad</td>\n",
              "    </tr>\n",
              "  </tbody>\n",
              "</table>\n",
              "<p>2192 rows × 25 columns</p>\n",
              "</div>"
            ],
            "text/plain": [
              "       date_time  tempC  maxtempC  ...  winddirDegree  windspeedKmph   location\n",
              "0       1/1/2015     27        27  ...             62             20  ahmedabad\n",
              "1       1/2/2015     25        25  ...             70             16  ahmedabad\n",
              "2       1/3/2015     26        26  ...             90              9  ahmedabad\n",
              "3       1/4/2015     27        27  ...             68             13  ahmedabad\n",
              "4       1/5/2015     27        27  ...             65             14  ahmedabad\n",
              "...          ...    ...       ...  ...            ...            ...        ...\n",
              "2187  12/27/2020     29        29  ...            219             11  ahmedabad\n",
              "2188  12/28/2020     25        25  ...            100             13  ahmedabad\n",
              "2189  12/29/2020     25        25  ...             49             16  ahmedabad\n",
              "2190  12/30/2020     25        25  ...             44             17  ahmedabad\n",
              "2191  12/31/2020     28        28  ...             51             18  ahmedabad\n",
              "\n",
              "[2192 rows x 25 columns]"
            ]
          },
          "metadata": {
            "tags": []
          },
          "execution_count": 39
        }
      ]
    },
    {
      "cell_type": "markdown",
      "metadata": {
        "id": "yI1ThA3u9iUX"
      },
      "source": [
        "**We removed few of the columns which were irrelevant or redundant or the columns which had all null values**"
      ]
    },
    {
      "cell_type": "code",
      "metadata": {
        "colab": {
          "base_uri": "https://localhost:8080/",
          "height": 428
        },
        "id": "HbVzlvfqR7jq",
        "outputId": "e52801d8-91b9-4cdf-8551-4608225c6ecd"
      },
      "source": [
        "data.drop([\"maxtempC\",\"mintempC\",\"moonrise\", \"moonset\",\"sunrise\",\"sunset\",\"location\",\"totalSnow_cm\",\"FeelsLikeC\"], axis = 1, inplace = True) \n",
        "data.drop([\"date_time\"],axis = 1, inplace = True)\n",
        "data"
      ],
      "execution_count": 40,
      "outputs": [
        {
          "output_type": "execute_result",
          "data": {
            "text/html": [
              "<div>\n",
              "<style scoped>\n",
              "    .dataframe tbody tr th:only-of-type {\n",
              "        vertical-align: middle;\n",
              "    }\n",
              "\n",
              "    .dataframe tbody tr th {\n",
              "        vertical-align: top;\n",
              "    }\n",
              "\n",
              "    .dataframe thead th {\n",
              "        text-align: right;\n",
              "    }\n",
              "</style>\n",
              "<table border=\"1\" class=\"dataframe\">\n",
              "  <thead>\n",
              "    <tr style=\"text-align: right;\">\n",
              "      <th></th>\n",
              "      <th>tempC</th>\n",
              "      <th>sunHour</th>\n",
              "      <th>uvIndex</th>\n",
              "      <th>moon_illumination</th>\n",
              "      <th>DewPointC</th>\n",
              "      <th>HeatIndexC</th>\n",
              "      <th>WindChillC</th>\n",
              "      <th>WindGustKmph</th>\n",
              "      <th>cloudcover</th>\n",
              "      <th>humidity</th>\n",
              "      <th>precipMM</th>\n",
              "      <th>pressure</th>\n",
              "      <th>visibility</th>\n",
              "      <th>winddirDegree</th>\n",
              "      <th>windspeedKmph</th>\n",
              "    </tr>\n",
              "  </thead>\n",
              "  <tbody>\n",
              "    <tr>\n",
              "      <th>0</th>\n",
              "      <td>27</td>\n",
              "      <td>10.8</td>\n",
              "      <td>6</td>\n",
              "      <td>72</td>\n",
              "      <td>12</td>\n",
              "      <td>20</td>\n",
              "      <td>20</td>\n",
              "      <td>33</td>\n",
              "      <td>11</td>\n",
              "      <td>61</td>\n",
              "      <td>0.4</td>\n",
              "      <td>1011</td>\n",
              "      <td>10</td>\n",
              "      <td>62</td>\n",
              "      <td>20</td>\n",
              "    </tr>\n",
              "    <tr>\n",
              "      <th>1</th>\n",
              "      <td>25</td>\n",
              "      <td>10.9</td>\n",
              "      <td>6</td>\n",
              "      <td>80</td>\n",
              "      <td>12</td>\n",
              "      <td>20</td>\n",
              "      <td>19</td>\n",
              "      <td>26</td>\n",
              "      <td>6</td>\n",
              "      <td>65</td>\n",
              "      <td>0.0</td>\n",
              "      <td>1014</td>\n",
              "      <td>10</td>\n",
              "      <td>70</td>\n",
              "      <td>16</td>\n",
              "    </tr>\n",
              "    <tr>\n",
              "      <th>2</th>\n",
              "      <td>26</td>\n",
              "      <td>10.9</td>\n",
              "      <td>6</td>\n",
              "      <td>87</td>\n",
              "      <td>13</td>\n",
              "      <td>21</td>\n",
              "      <td>21</td>\n",
              "      <td>14</td>\n",
              "      <td>1</td>\n",
              "      <td>60</td>\n",
              "      <td>0.0</td>\n",
              "      <td>1015</td>\n",
              "      <td>10</td>\n",
              "      <td>90</td>\n",
              "      <td>9</td>\n",
              "    </tr>\n",
              "    <tr>\n",
              "      <th>3</th>\n",
              "      <td>27</td>\n",
              "      <td>10.9</td>\n",
              "      <td>6</td>\n",
              "      <td>94</td>\n",
              "      <td>9</td>\n",
              "      <td>21</td>\n",
              "      <td>22</td>\n",
              "      <td>22</td>\n",
              "      <td>0</td>\n",
              "      <td>46</td>\n",
              "      <td>0.0</td>\n",
              "      <td>1017</td>\n",
              "      <td>10</td>\n",
              "      <td>68</td>\n",
              "      <td>13</td>\n",
              "    </tr>\n",
              "    <tr>\n",
              "      <th>4</th>\n",
              "      <td>27</td>\n",
              "      <td>10.9</td>\n",
              "      <td>6</td>\n",
              "      <td>100</td>\n",
              "      <td>5</td>\n",
              "      <td>20</td>\n",
              "      <td>20</td>\n",
              "      <td>24</td>\n",
              "      <td>0</td>\n",
              "      <td>40</td>\n",
              "      <td>0.0</td>\n",
              "      <td>1017</td>\n",
              "      <td>10</td>\n",
              "      <td>65</td>\n",
              "      <td>14</td>\n",
              "    </tr>\n",
              "    <tr>\n",
              "      <th>...</th>\n",
              "      <td>...</td>\n",
              "      <td>...</td>\n",
              "      <td>...</td>\n",
              "      <td>...</td>\n",
              "      <td>...</td>\n",
              "      <td>...</td>\n",
              "      <td>...</td>\n",
              "      <td>...</td>\n",
              "      <td>...</td>\n",
              "      <td>...</td>\n",
              "      <td>...</td>\n",
              "      <td>...</td>\n",
              "      <td>...</td>\n",
              "      <td>...</td>\n",
              "      <td>...</td>\n",
              "    </tr>\n",
              "    <tr>\n",
              "      <th>2187</th>\n",
              "      <td>29</td>\n",
              "      <td>10.8</td>\n",
              "      <td>7</td>\n",
              "      <td>85</td>\n",
              "      <td>6</td>\n",
              "      <td>25</td>\n",
              "      <td>24</td>\n",
              "      <td>17</td>\n",
              "      <td>0</td>\n",
              "      <td>33</td>\n",
              "      <td>0.0</td>\n",
              "      <td>1013</td>\n",
              "      <td>10</td>\n",
              "      <td>219</td>\n",
              "      <td>11</td>\n",
              "    </tr>\n",
              "    <tr>\n",
              "      <th>2188</th>\n",
              "      <td>25</td>\n",
              "      <td>10.8</td>\n",
              "      <td>6</td>\n",
              "      <td>92</td>\n",
              "      <td>-9</td>\n",
              "      <td>20</td>\n",
              "      <td>19</td>\n",
              "      <td>20</td>\n",
              "      <td>0</td>\n",
              "      <td>15</td>\n",
              "      <td>0.0</td>\n",
              "      <td>1015</td>\n",
              "      <td>10</td>\n",
              "      <td>100</td>\n",
              "      <td>13</td>\n",
              "    </tr>\n",
              "    <tr>\n",
              "      <th>2189</th>\n",
              "      <td>25</td>\n",
              "      <td>10.8</td>\n",
              "      <td>5</td>\n",
              "      <td>100</td>\n",
              "      <td>-7</td>\n",
              "      <td>18</td>\n",
              "      <td>17</td>\n",
              "      <td>26</td>\n",
              "      <td>0</td>\n",
              "      <td>17</td>\n",
              "      <td>0.0</td>\n",
              "      <td>1015</td>\n",
              "      <td>10</td>\n",
              "      <td>49</td>\n",
              "      <td>16</td>\n",
              "    </tr>\n",
              "    <tr>\n",
              "      <th>2190</th>\n",
              "      <td>25</td>\n",
              "      <td>10.8</td>\n",
              "      <td>6</td>\n",
              "      <td>100</td>\n",
              "      <td>-3</td>\n",
              "      <td>19</td>\n",
              "      <td>18</td>\n",
              "      <td>27</td>\n",
              "      <td>0</td>\n",
              "      <td>24</td>\n",
              "      <td>0.0</td>\n",
              "      <td>1015</td>\n",
              "      <td>10</td>\n",
              "      <td>44</td>\n",
              "      <td>17</td>\n",
              "    </tr>\n",
              "    <tr>\n",
              "      <th>2191</th>\n",
              "      <td>28</td>\n",
              "      <td>10.8</td>\n",
              "      <td>6</td>\n",
              "      <td>89</td>\n",
              "      <td>4</td>\n",
              "      <td>22</td>\n",
              "      <td>21</td>\n",
              "      <td>28</td>\n",
              "      <td>1</td>\n",
              "      <td>33</td>\n",
              "      <td>0.0</td>\n",
              "      <td>1014</td>\n",
              "      <td>10</td>\n",
              "      <td>51</td>\n",
              "      <td>18</td>\n",
              "    </tr>\n",
              "  </tbody>\n",
              "</table>\n",
              "<p>2192 rows × 15 columns</p>\n",
              "</div>"
            ],
            "text/plain": [
              "      tempC  sunHour  uvIndex  ...  visibility  winddirDegree  windspeedKmph\n",
              "0        27     10.8        6  ...          10             62             20\n",
              "1        25     10.9        6  ...          10             70             16\n",
              "2        26     10.9        6  ...          10             90              9\n",
              "3        27     10.9        6  ...          10             68             13\n",
              "4        27     10.9        6  ...          10             65             14\n",
              "...     ...      ...      ...  ...         ...            ...            ...\n",
              "2187     29     10.8        7  ...          10            219             11\n",
              "2188     25     10.8        6  ...          10            100             13\n",
              "2189     25     10.8        5  ...          10             49             16\n",
              "2190     25     10.8        6  ...          10             44             17\n",
              "2191     28     10.8        6  ...          10             51             18\n",
              "\n",
              "[2192 rows x 15 columns]"
            ]
          },
          "metadata": {
            "tags": []
          },
          "execution_count": 40
        }
      ]
    },
    {
      "cell_type": "markdown",
      "metadata": {
        "id": "6yG0G6QB-tfU"
      },
      "source": [
        "# **Feature Selection Process**"
      ]
    },
    {
      "cell_type": "markdown",
      "metadata": {
        "id": "QsTYIbHj-4sq"
      },
      "source": [
        "(1) Select the input fetures and output features and then apply Extra Tree classifier to get the importance of the features and plot it.\n",
        "We selected the threshold value (0.06) for feature importance and remove the features which has less importance value than our threshold."
      ]
    },
    {
      "cell_type": "code",
      "metadata": {
        "id": "k_cdqFfEQghj",
        "colab": {
          "base_uri": "https://localhost:8080/",
          "height": 728
        },
        "outputId": "6ecb52fc-ddbd-4bf4-f2a1-a53289e81ef5"
      },
      "source": [
        "X=data.iloc[:,1:15] ## independent features\n",
        "y=data.iloc[:,0] ## dependent features\n",
        "\n",
        "from sklearn.ensemble import ExtraTreesClassifier\n",
        "import matplotlib.pyplot as plt\n",
        "#use inbuilt class feature_importances of tree based classifiers\n",
        "model = ExtraTreesClassifier()\n",
        "model.fit(X,y)\n",
        "print(model.feature_importances_) \n",
        "#visualize the importance\n",
        "feat_importances = pd.Series(model.feature_importances_, index=X.columns)\n",
        "feat_importances.nlargest(14).plot(kind='barh')\n",
        "plt.show()\n",
        "#The value which is less needs to be removed. Thus, in this case we can consider visibility, precipMM and sunHour to be removed.\n",
        "data.drop([\"visibility\",\"precipMM\",\"sunHour\"], axis = 1, inplace = True)       \n",
        "print(data)\n",
        "\n",
        "\n",
        "X=data.iloc[:,1:12] ## independent features\n",
        "y=data.iloc[:,0] ## dependent features\n",
        "m = len(y)\n",
        "\n",
        "print(X);\n",
        "print(y);\n",
        "print(m);\n",
        "#Extra Tree "
      ],
      "execution_count": null,
      "outputs": [
        {
          "output_type": "stream",
          "text": [
            "[0.06027879 0.06847194 0.07541618 0.07343975 0.10113288 0.1203831\n",
            " 0.07412321 0.07656129 0.09158597 0.02353007 0.07328991 0.01476921\n",
            " 0.07797565 0.06904203]\n"
          ],
          "name": "stdout"
        },
        {
          "output_type": "display_data",
          "data": {
            "image/png": "[encoded data removed]",
            "text/plain": [
              "<Figure size 432x288 with 1 Axes>"
            ]
          },
          "metadata": {
            "tags": [],
            "needs_background": "light"
          }
        },
        {
          "output_type": "execute_result",
          "data": {
            "text/html": [
              "<div>\n",
              "<style scoped>\n",
              "    .dataframe tbody tr th:only-of-type {\n",
              "        vertical-align: middle;\n",
              "    }\n",
              "\n",
              "    .dataframe tbody tr th {\n",
              "        vertical-align: top;\n",
              "    }\n",
              "\n",
              "    .dataframe thead th {\n",
              "        text-align: right;\n",
              "    }\n",
              "</style>\n",
              "<table border=\"1\" class=\"dataframe\">\n",
              "  <thead>\n",
              "    <tr style=\"text-align: right;\">\n",
              "      <th></th>\n",
              "      <th>tempC</th>\n",
              "      <th>uvIndex</th>\n",
              "      <th>moon_illumination</th>\n",
              "      <th>DewPointC</th>\n",
              "      <th>HeatIndexC</th>\n",
              "      <th>WindChillC</th>\n",
              "      <th>WindGustKmph</th>\n",
              "      <th>cloudcover</th>\n",
              "      <th>humidity</th>\n",
              "      <th>pressure</th>\n",
              "      <th>winddirDegree</th>\n",
              "      <th>windspeedKmph</th>\n",
              "    </tr>\n",
              "  </thead>\n",
              "  <tbody>\n",
              "    <tr>\n",
              "      <th>0</th>\n",
              "      <td>27</td>\n",
              "      <td>6</td>\n",
              "      <td>72</td>\n",
              "      <td>12</td>\n",
              "      <td>20</td>\n",
              "      <td>20</td>\n",
              "      <td>33</td>\n",
              "      <td>11</td>\n",
              "      <td>61</td>\n",
              "      <td>1011</td>\n",
              "      <td>62</td>\n",
              "      <td>20</td>\n",
              "    </tr>\n",
              "    <tr>\n",
              "      <th>1</th>\n",
              "      <td>25</td>\n",
              "      <td>6</td>\n",
              "      <td>80</td>\n",
              "      <td>12</td>\n",
              "      <td>20</td>\n",
              "      <td>19</td>\n",
              "      <td>26</td>\n",
              "      <td>6</td>\n",
              "      <td>65</td>\n",
              "      <td>1014</td>\n",
              "      <td>70</td>\n",
              "      <td>16</td>\n",
              "    </tr>\n",
              "    <tr>\n",
              "      <th>2</th>\n",
              "      <td>26</td>\n",
              "      <td>6</td>\n",
              "      <td>87</td>\n",
              "      <td>13</td>\n",
              "      <td>21</td>\n",
              "      <td>21</td>\n",
              "      <td>14</td>\n",
              "      <td>1</td>\n",
              "      <td>60</td>\n",
              "      <td>1015</td>\n",
              "      <td>90</td>\n",
              "      <td>9</td>\n",
              "    </tr>\n",
              "    <tr>\n",
              "      <th>3</th>\n",
              "      <td>27</td>\n",
              "      <td>6</td>\n",
              "      <td>94</td>\n",
              "      <td>9</td>\n",
              "      <td>21</td>\n",
              "      <td>22</td>\n",
              "      <td>22</td>\n",
              "      <td>0</td>\n",
              "      <td>46</td>\n",
              "      <td>1017</td>\n",
              "      <td>68</td>\n",
              "      <td>13</td>\n",
              "    </tr>\n",
              "    <tr>\n",
              "      <th>4</th>\n",
              "      <td>27</td>\n",
              "      <td>6</td>\n",
              "      <td>100</td>\n",
              "      <td>5</td>\n",
              "      <td>20</td>\n",
              "      <td>20</td>\n",
              "      <td>24</td>\n",
              "      <td>0</td>\n",
              "      <td>40</td>\n",
              "      <td>1017</td>\n",
              "      <td>65</td>\n",
              "      <td>14</td>\n",
              "    </tr>\n",
              "    <tr>\n",
              "      <th>...</th>\n",
              "      <td>...</td>\n",
              "      <td>...</td>\n",
              "      <td>...</td>\n",
              "      <td>...</td>\n",
              "      <td>...</td>\n",
              "      <td>...</td>\n",
              "      <td>...</td>\n",
              "      <td>...</td>\n",
              "      <td>...</td>\n",
              "      <td>...</td>\n",
              "      <td>...</td>\n",
              "      <td>...</td>\n",
              "    </tr>\n",
              "    <tr>\n",
              "      <th>2187</th>\n",
              "      <td>29</td>\n",
              "      <td>7</td>\n",
              "      <td>85</td>\n",
              "      <td>6</td>\n",
              "      <td>25</td>\n",
              "      <td>24</td>\n",
              "      <td>17</td>\n",
              "      <td>0</td>\n",
              "      <td>33</td>\n",
              "      <td>1013</td>\n",
              "      <td>219</td>\n",
              "      <td>11</td>\n",
              "    </tr>\n",
              "    <tr>\n",
              "      <th>2188</th>\n",
              "      <td>25</td>\n",
              "      <td>6</td>\n",
              "      <td>92</td>\n",
              "      <td>-9</td>\n",
              "      <td>20</td>\n",
              "      <td>19</td>\n",
              "      <td>20</td>\n",
              "      <td>0</td>\n",
              "      <td>15</td>\n",
              "      <td>1015</td>\n",
              "      <td>100</td>\n",
              "      <td>13</td>\n",
              "    </tr>\n",
              "    <tr>\n",
              "      <th>2189</th>\n",
              "      <td>25</td>\n",
              "      <td>5</td>\n",
              "      <td>100</td>\n",
              "      <td>-7</td>\n",
              "      <td>18</td>\n",
              "      <td>17</td>\n",
              "      <td>26</td>\n",
              "      <td>0</td>\n",
              "      <td>17</td>\n",
              "      <td>1015</td>\n",
              "      <td>49</td>\n",
              "      <td>16</td>\n",
              "    </tr>\n",
              "    <tr>\n",
              "      <th>2190</th>\n",
              "      <td>25</td>\n",
              "      <td>6</td>\n",
              "      <td>100</td>\n",
              "      <td>-3</td>\n",
              "      <td>19</td>\n",
              "      <td>18</td>\n",
              "      <td>27</td>\n",
              "      <td>0</td>\n",
              "      <td>24</td>\n",
              "      <td>1015</td>\n",
              "      <td>44</td>\n",
              "      <td>17</td>\n",
              "    </tr>\n",
              "    <tr>\n",
              "      <th>2191</th>\n",
              "      <td>28</td>\n",
              "      <td>6</td>\n",
              "      <td>89</td>\n",
              "      <td>4</td>\n",
              "      <td>22</td>\n",
              "      <td>21</td>\n",
              "      <td>28</td>\n",
              "      <td>1</td>\n",
              "      <td>33</td>\n",
              "      <td>1014</td>\n",
              "      <td>51</td>\n",
              "      <td>18</td>\n",
              "    </tr>\n",
              "  </tbody>\n",
              "</table>\n",
              "<p>2192 rows × 12 columns</p>\n",
              "</div>"
            ],
            "text/plain": [
              "      tempC  uvIndex  moon_illumination  ...  pressure  winddirDegree  windspeedKmph\n",
              "0        27        6                 72  ...      1011             62             20\n",
              "1        25        6                 80  ...      1014             70             16\n",
              "2        26        6                 87  ...      1015             90              9\n",
              "3        27        6                 94  ...      1017             68             13\n",
              "4        27        6                100  ...      1017             65             14\n",
              "...     ...      ...                ...  ...       ...            ...            ...\n",
              "2187     29        7                 85  ...      1013            219             11\n",
              "2188     25        6                 92  ...      1015            100             13\n",
              "2189     25        5                100  ...      1015             49             16\n",
              "2190     25        6                100  ...      1015             44             17\n",
              "2191     28        6                 89  ...      1014             51             18\n",
              "\n",
              "[2192 rows x 12 columns]"
            ]
          },
          "metadata": {
            "tags": []
          },
          "execution_count": 9
        }
      ]
    },
    {
      "cell_type": "markdown",
      "metadata": {
        "id": "SyXChlfCBuU6"
      },
      "source": [
        "(2) Select the input fetures and output features and then apply Mutual Info classifier to get the importance of the features and plot it.\n",
        "We selected the threshold value (0.2) for feature importance and remove the features which has less importance value than our threshold."
      ]
    },
    {
      "cell_type": "code",
      "metadata": {
        "colab": {
          "base_uri": "https://localhost:8080/",
          "height": 656
        },
        "id": "m8K3Z8dJE0WA",
        "outputId": "8b06bd8d-3613-4b0d-f41b-9289137af9ea"
      },
      "source": [
        "X=data.iloc[:,1:15] ## independent features\n",
        "y=data.iloc[:,0] ## dependent features\n",
        "\n",
        "from sklearn.feature_selection import mutual_info_classif\n",
        "import matplotlib.pyplot as plt\n",
        "%matplotlib inline\n",
        "#use information gain to get feature importance\n",
        "importances = mutual_info_classif(X, y)\n",
        "feat_importances = pd.Series(importances, data.columns[1: len(data.columns)])\n",
        "#visualize the importance\n",
        "feat_importances.plot(kind='barh', color = 'teal')\n",
        "plt.show()\n",
        "\n",
        "#The value which is less needs to be removed. Thus, in this case we can consider moon_illumination,\tWindGustKmph, pressure, visibility and windspeedKmph to be removed .\n",
        "data.drop([\"moon_illumination\",\"precipMM\",\"WindGustKmph\",\"visibility\",\"windspeedKmph\"], axis = 1, inplace = True) \n",
        "data\n",
        "\n",
        "#moon_illumination\tWindGustKmph precipMM\tvisibility\twindspeedKmph\n",
        "#thresold = WinddirDegree\n",
        "\n",
        "data\n",
        "X=data.iloc[:,1:10] ## independent features\n",
        "y=data.iloc[:,0] ## dependent features\n",
        "m = len(y)\n",
        "\n",
        "print(X);\n",
        "print(y);\n",
        "print(m);\n",
        "#Information gain"
      ],
      "execution_count": null,
      "outputs": [
        {
          "output_type": "display_data",
          "data": {
            "image/png": "[encoded data removed]",
            "text/plain": [
              "<Figure size 432x288 with 1 Axes>"
            ]
          },
          "metadata": {
            "tags": [],
            "needs_background": "light"
          }
        },
        {
          "output_type": "execute_result",
          "data": {
            "text/html": [
              "<div>\n",
              "<style scoped>\n",
              "    .dataframe tbody tr th:only-of-type {\n",
              "        vertical-align: middle;\n",
              "    }\n",
              "\n",
              "    .dataframe tbody tr th {\n",
              "        vertical-align: top;\n",
              "    }\n",
              "\n",
              "    .dataframe thead th {\n",
              "        text-align: right;\n",
              "    }\n",
              "</style>\n",
              "<table border=\"1\" class=\"dataframe\">\n",
              "  <thead>\n",
              "    <tr style=\"text-align: right;\">\n",
              "      <th></th>\n",
              "      <th>tempC</th>\n",
              "      <th>sunHour</th>\n",
              "      <th>uvIndex</th>\n",
              "      <th>DewPointC</th>\n",
              "      <th>HeatIndexC</th>\n",
              "      <th>WindChillC</th>\n",
              "      <th>cloudcover</th>\n",
              "      <th>humidity</th>\n",
              "      <th>pressure</th>\n",
              "      <th>winddirDegree</th>\n",
              "    </tr>\n",
              "  </thead>\n",
              "  <tbody>\n",
              "    <tr>\n",
              "      <th>0</th>\n",
              "      <td>27</td>\n",
              "      <td>10.8</td>\n",
              "      <td>6</td>\n",
              "      <td>12</td>\n",
              "      <td>20</td>\n",
              "      <td>20</td>\n",
              "      <td>11</td>\n",
              "      <td>61</td>\n",
              "      <td>1011</td>\n",
              "      <td>62</td>\n",
              "    </tr>\n",
              "    <tr>\n",
              "      <th>1</th>\n",
              "      <td>25</td>\n",
              "      <td>10.9</td>\n",
              "      <td>6</td>\n",
              "      <td>12</td>\n",
              "      <td>20</td>\n",
              "      <td>19</td>\n",
              "      <td>6</td>\n",
              "      <td>65</td>\n",
              "      <td>1014</td>\n",
              "      <td>70</td>\n",
              "    </tr>\n",
              "    <tr>\n",
              "      <th>2</th>\n",
              "      <td>26</td>\n",
              "      <td>10.9</td>\n",
              "      <td>6</td>\n",
              "      <td>13</td>\n",
              "      <td>21</td>\n",
              "      <td>21</td>\n",
              "      <td>1</td>\n",
              "      <td>60</td>\n",
              "      <td>1015</td>\n",
              "      <td>90</td>\n",
              "    </tr>\n",
              "    <tr>\n",
              "      <th>3</th>\n",
              "      <td>27</td>\n",
              "      <td>10.9</td>\n",
              "      <td>6</td>\n",
              "      <td>9</td>\n",
              "      <td>21</td>\n",
              "      <td>22</td>\n",
              "      <td>0</td>\n",
              "      <td>46</td>\n",
              "      <td>1017</td>\n",
              "      <td>68</td>\n",
              "    </tr>\n",
              "    <tr>\n",
              "      <th>4</th>\n",
              "      <td>27</td>\n",
              "      <td>10.9</td>\n",
              "      <td>6</td>\n",
              "      <td>5</td>\n",
              "      <td>20</td>\n",
              "      <td>20</td>\n",
              "      <td>0</td>\n",
              "      <td>40</td>\n",
              "      <td>1017</td>\n",
              "      <td>65</td>\n",
              "    </tr>\n",
              "    <tr>\n",
              "      <th>...</th>\n",
              "      <td>...</td>\n",
              "      <td>...</td>\n",
              "      <td>...</td>\n",
              "      <td>...</td>\n",
              "      <td>...</td>\n",
              "      <td>...</td>\n",
              "      <td>...</td>\n",
              "      <td>...</td>\n",
              "      <td>...</td>\n",
              "      <td>...</td>\n",
              "    </tr>\n",
              "    <tr>\n",
              "      <th>2187</th>\n",
              "      <td>29</td>\n",
              "      <td>10.8</td>\n",
              "      <td>7</td>\n",
              "      <td>6</td>\n",
              "      <td>25</td>\n",
              "      <td>24</td>\n",
              "      <td>0</td>\n",
              "      <td>33</td>\n",
              "      <td>1013</td>\n",
              "      <td>219</td>\n",
              "    </tr>\n",
              "    <tr>\n",
              "      <th>2188</th>\n",
              "      <td>25</td>\n",
              "      <td>10.8</td>\n",
              "      <td>6</td>\n",
              "      <td>-9</td>\n",
              "      <td>20</td>\n",
              "      <td>19</td>\n",
              "      <td>0</td>\n",
              "      <td>15</td>\n",
              "      <td>1015</td>\n",
              "      <td>100</td>\n",
              "    </tr>\n",
              "    <tr>\n",
              "      <th>2189</th>\n",
              "      <td>25</td>\n",
              "      <td>10.8</td>\n",
              "      <td>5</td>\n",
              "      <td>-7</td>\n",
              "      <td>18</td>\n",
              "      <td>17</td>\n",
              "      <td>0</td>\n",
              "      <td>17</td>\n",
              "      <td>1015</td>\n",
              "      <td>49</td>\n",
              "    </tr>\n",
              "    <tr>\n",
              "      <th>2190</th>\n",
              "      <td>25</td>\n",
              "      <td>10.8</td>\n",
              "      <td>6</td>\n",
              "      <td>-3</td>\n",
              "      <td>19</td>\n",
              "      <td>18</td>\n",
              "      <td>0</td>\n",
              "      <td>24</td>\n",
              "      <td>1015</td>\n",
              "      <td>44</td>\n",
              "    </tr>\n",
              "    <tr>\n",
              "      <th>2191</th>\n",
              "      <td>28</td>\n",
              "      <td>10.8</td>\n",
              "      <td>6</td>\n",
              "      <td>4</td>\n",
              "      <td>22</td>\n",
              "      <td>21</td>\n",
              "      <td>1</td>\n",
              "      <td>33</td>\n",
              "      <td>1014</td>\n",
              "      <td>51</td>\n",
              "    </tr>\n",
              "  </tbody>\n",
              "</table>\n",
              "<p>2192 rows × 10 columns</p>\n",
              "</div>"
            ],
            "text/plain": [
              "      tempC  sunHour  uvIndex  ...  humidity  pressure  winddirDegree\n",
              "0        27     10.8        6  ...        61      1011             62\n",
              "1        25     10.9        6  ...        65      1014             70\n",
              "2        26     10.9        6  ...        60      1015             90\n",
              "3        27     10.9        6  ...        46      1017             68\n",
              "4        27     10.9        6  ...        40      1017             65\n",
              "...     ...      ...      ...  ...       ...       ...            ...\n",
              "2187     29     10.8        7  ...        33      1013            219\n",
              "2188     25     10.8        6  ...        15      1015            100\n",
              "2189     25     10.8        5  ...        17      1015             49\n",
              "2190     25     10.8        6  ...        24      1015             44\n",
              "2191     28     10.8        6  ...        33      1014             51\n",
              "\n",
              "[2192 rows x 10 columns]"
            ]
          },
          "metadata": {
            "tags": []
          },
          "execution_count": 13
        }
      ]
    },
    {
      "cell_type": "markdown",
      "metadata": {
        "id": "FibWJo_bSRGX"
      },
      "source": [
        "**Feature selection using Backward elimination**"
      ]
    },
    {
      "cell_type": "code",
      "metadata": {
        "colab": {
          "base_uri": "https://localhost:8080/"
        },
        "id": "N0e4bRu3PpLa",
        "outputId": "345aa87c-1a53-443a-ef5d-a9c859a9ae22"
      },
      "source": [
        "!python -m pip install statsmodels "
      ],
      "execution_count": null,
      "outputs": [
        {
          "output_type": "stream",
          "text": [
            "Requirement already satisfied: statsmodels in /usr/local/lib/python3.7/dist-packages (0.10.2)\n",
            "Requirement already satisfied: numpy>=1.11 in /usr/local/lib/python3.7/dist-packages (from statsmodels) (1.19.5)\n",
            "Requirement already satisfied: scipy>=0.18 in /usr/local/lib/python3.7/dist-packages (from statsmodels) (1.4.1)\n",
            "Requirement already satisfied: patsy>=0.4.0 in /usr/local/lib/python3.7/dist-packages (from statsmodels) (0.5.1)\n",
            "Requirement already satisfied: pandas>=0.19 in /usr/local/lib/python3.7/dist-packages (from statsmodels) (1.1.5)\n",
            "Requirement already satisfied: six in /usr/local/lib/python3.7/dist-packages (from patsy>=0.4.0->statsmodels) (1.15.0)\n",
            "Requirement already satisfied: python-dateutil>=2.7.3 in /usr/local/lib/python3.7/dist-packages (from pandas>=0.19->statsmodels) (2.8.1)\n",
            "Requirement already satisfied: pytz>=2017.2 in /usr/local/lib/python3.7/dist-packages (from pandas>=0.19->statsmodels) (2018.9)\n"
          ],
          "name": "stdout"
        }
      ]
    },
    {
      "cell_type": "markdown",
      "metadata": {
        "id": "t03Wrx-_TEHB"
      },
      "source": [
        "(3) Next, we have used Backward Feature Elimination under wrapper methods. Here we have done in such a way that if p-value is greater than 0.05, then those features are removed. Below, we have show the p-values of different features. \n",
        "Thus based on this table, we removed visibility and pressure.\n"
      ]
    },
    {
      "cell_type": "code",
      "metadata": {
        "colab": {
          "base_uri": "https://localhost:8080/"
        },
        "id": "jEyhj8ptOORn",
        "outputId": "a80cf1ba-048a-404d-f819-65e2e4536529"
      },
      "source": [
        "import statsmodels.api as sm\n",
        "X=data.iloc[:,1:15] ## independent features\n",
        "y=data.iloc[:,0] ## dependent features\n",
        "\n",
        "#Backward Elimination\n",
        "cols = list(X.columns)#select the columns\n",
        "pmax = 1\n",
        "while (len(cols)>0):\n",
        "    p= []  #to store pvalues\n",
        "    X_1 = X[cols] #assign to different variable\n",
        "    X_1 = sm.add_constant(X_1)\n",
        "    model = sm.OLS(y,X_1).fit()\n",
        "    p = pd.Series(model.pvalues.values[1:],index = cols)      \n",
        "    pmax = max(p) #selct maximum p value\n",
        "    feature_with_p_max = p.idxmax()  #selct maximum p value feature\n",
        "    if(pmax>0.05):     #threshold value\n",
        "        cols.remove(feature_with_p_max) #selct feature based on thresold\n",
        "    else:\n",
        "        break\n",
        "selected_features = cols\n",
        "print(selected_features)\n",
        "\n",
        "#removing visibility and pressure\n",
        "data.drop([\"visibility\",\"pressure\"], axis = 1, inplace = True) \n",
        "data\n",
        "\n",
        "X=data.iloc[:,1:13] ## independent features\n",
        "y=data.iloc[:,0] ## dependent features\n",
        "m = len(y)\n",
        "print(X);\n",
        "print(y);\n",
        "print(m);\n",
        "#Backward elimination\n"
      ],
      "execution_count": 41,
      "outputs": [
        {
          "output_type": "stream",
          "text": [
            "const                7.974191e-01\n",
            "sunHour              1.239339e-04\n",
            "uvIndex              1.749297e-19\n",
            "moon_illumination    2.561761e-02\n",
            "DewPointC            5.800048e-07\n",
            "HeatIndexC           1.309361e-29\n",
            "WindChillC           1.793099e-95\n",
            "WindGustKmph         3.153129e-25\n",
            "cloudcover           1.687684e-15\n",
            "humidity             2.759541e-04\n",
            "precipMM             6.244538e-10\n",
            "pressure             5.534947e-01\n",
            "visibility           7.463637e-01\n",
            "winddirDegree        1.656637e-07\n",
            "windspeedKmph        1.054076e-10\n",
            "dtype: float64\n",
            "['sunHour', 'uvIndex', 'moon_illumination', 'DewPointC', 'HeatIndexC', 'WindChillC', 'WindGustKmph', 'cloudcover', 'humidity', 'precipMM', 'winddirDegree', 'windspeedKmph']\n",
            "      sunHour  uvIndex  ...  winddirDegree  windspeedKmph\n",
            "0        10.8        6  ...             62             20\n",
            "1        10.9        6  ...             70             16\n",
            "2        10.9        6  ...             90              9\n",
            "3        10.9        6  ...             68             13\n",
            "4        10.9        6  ...             65             14\n",
            "...       ...      ...  ...            ...            ...\n",
            "2187     10.8        7  ...            219             11\n",
            "2188     10.8        6  ...            100             13\n",
            "2189     10.8        5  ...             49             16\n",
            "2190     10.8        6  ...             44             17\n",
            "2191     10.8        6  ...             51             18\n",
            "\n",
            "[2192 rows x 12 columns]\n",
            "0       27\n",
            "1       25\n",
            "2       26\n",
            "3       27\n",
            "4       27\n",
            "        ..\n",
            "2187    29\n",
            "2188    25\n",
            "2189    25\n",
            "2190    25\n",
            "2191    28\n",
            "Name: tempC, Length: 2192, dtype: int64\n",
            "2192\n"
          ],
          "name": "stdout"
        }
      ]
    },
    {
      "cell_type": "markdown",
      "metadata": {
        "id": "Iws_TC04qKKi"
      },
      "source": [
        "(4) Next, we perform Feature selection using correlation matrix. We Performed Pearson correlation and got correlation matrix and then did Visualisation of the correlation matrix using heatmap"
      ]
    },
    {
      "cell_type": "code",
      "metadata": {
        "id": "bLDO0u4mfi7X",
        "colab": {
          "base_uri": "https://localhost:8080/",
          "height": 762
        },
        "outputId": "d77db90c-b906-4fbc-e152-696be1cf4394"
      },
      "source": [
        "correlation = data.corr(method='pearson', min_periods=1)\n",
        "data.corr(method='pearson', min_periods=1)\n",
        "sns.heatmap(correlation)\n",
        "\n",
        "#removing coloumns which are highly correlated\n",
        "data.drop([\"WindChillC\",\"visibility\",\"uvIndex\"], axis = 1, inplace = True) \n",
        "data\n",
        "\n",
        "X=data.iloc[:,1:12] ## independent features\n",
        "y=data.iloc[:,0] ## dependent features\n",
        "m = len(y)\n",
        "print(X);\n",
        "print(y);\n",
        "print(m);\n",
        "#Correlation"
      ],
      "execution_count": null,
      "outputs": [
        {
          "output_type": "execute_result",
          "data": {
            "text/html": [
              "<div>\n",
              "<style scoped>\n",
              "    .dataframe tbody tr th:only-of-type {\n",
              "        vertical-align: middle;\n",
              "    }\n",
              "\n",
              "    .dataframe tbody tr th {\n",
              "        vertical-align: top;\n",
              "    }\n",
              "\n",
              "    .dataframe thead th {\n",
              "        text-align: right;\n",
              "    }\n",
              "</style>\n",
              "<table border=\"1\" class=\"dataframe\">\n",
              "  <thead>\n",
              "    <tr style=\"text-align: right;\">\n",
              "      <th></th>\n",
              "      <th>tempC</th>\n",
              "      <th>sunHour</th>\n",
              "      <th>moon_illumination</th>\n",
              "      <th>DewPointC</th>\n",
              "      <th>HeatIndexC</th>\n",
              "      <th>WindGustKmph</th>\n",
              "      <th>cloudcover</th>\n",
              "      <th>humidity</th>\n",
              "      <th>precipMM</th>\n",
              "      <th>pressure</th>\n",
              "      <th>winddirDegree</th>\n",
              "      <th>windspeedKmph</th>\n",
              "    </tr>\n",
              "  </thead>\n",
              "  <tbody>\n",
              "    <tr>\n",
              "      <th>0</th>\n",
              "      <td>27</td>\n",
              "      <td>10.8</td>\n",
              "      <td>72</td>\n",
              "      <td>12</td>\n",
              "      <td>20</td>\n",
              "      <td>33</td>\n",
              "      <td>11</td>\n",
              "      <td>61</td>\n",
              "      <td>0.4</td>\n",
              "      <td>1011</td>\n",
              "      <td>62</td>\n",
              "      <td>20</td>\n",
              "    </tr>\n",
              "    <tr>\n",
              "      <th>1</th>\n",
              "      <td>25</td>\n",
              "      <td>10.9</td>\n",
              "      <td>80</td>\n",
              "      <td>12</td>\n",
              "      <td>20</td>\n",
              "      <td>26</td>\n",
              "      <td>6</td>\n",
              "      <td>65</td>\n",
              "      <td>0.0</td>\n",
              "      <td>1014</td>\n",
              "      <td>70</td>\n",
              "      <td>16</td>\n",
              "    </tr>\n",
              "    <tr>\n",
              "      <th>2</th>\n",
              "      <td>26</td>\n",
              "      <td>10.9</td>\n",
              "      <td>87</td>\n",
              "      <td>13</td>\n",
              "      <td>21</td>\n",
              "      <td>14</td>\n",
              "      <td>1</td>\n",
              "      <td>60</td>\n",
              "      <td>0.0</td>\n",
              "      <td>1015</td>\n",
              "      <td>90</td>\n",
              "      <td>9</td>\n",
              "    </tr>\n",
              "    <tr>\n",
              "      <th>3</th>\n",
              "      <td>27</td>\n",
              "      <td>10.9</td>\n",
              "      <td>94</td>\n",
              "      <td>9</td>\n",
              "      <td>21</td>\n",
              "      <td>22</td>\n",
              "      <td>0</td>\n",
              "      <td>46</td>\n",
              "      <td>0.0</td>\n",
              "      <td>1017</td>\n",
              "      <td>68</td>\n",
              "      <td>13</td>\n",
              "    </tr>\n",
              "    <tr>\n",
              "      <th>4</th>\n",
              "      <td>27</td>\n",
              "      <td>10.9</td>\n",
              "      <td>100</td>\n",
              "      <td>5</td>\n",
              "      <td>20</td>\n",
              "      <td>24</td>\n",
              "      <td>0</td>\n",
              "      <td>40</td>\n",
              "      <td>0.0</td>\n",
              "      <td>1017</td>\n",
              "      <td>65</td>\n",
              "      <td>14</td>\n",
              "    </tr>\n",
              "    <tr>\n",
              "      <th>...</th>\n",
              "      <td>...</td>\n",
              "      <td>...</td>\n",
              "      <td>...</td>\n",
              "      <td>...</td>\n",
              "      <td>...</td>\n",
              "      <td>...</td>\n",
              "      <td>...</td>\n",
              "      <td>...</td>\n",
              "      <td>...</td>\n",
              "      <td>...</td>\n",
              "      <td>...</td>\n",
              "      <td>...</td>\n",
              "    </tr>\n",
              "    <tr>\n",
              "      <th>2187</th>\n",
              "      <td>29</td>\n",
              "      <td>10.8</td>\n",
              "      <td>85</td>\n",
              "      <td>6</td>\n",
              "      <td>25</td>\n",
              "      <td>17</td>\n",
              "      <td>0</td>\n",
              "      <td>33</td>\n",
              "      <td>0.0</td>\n",
              "      <td>1013</td>\n",
              "      <td>219</td>\n",
              "      <td>11</td>\n",
              "    </tr>\n",
              "    <tr>\n",
              "      <th>2188</th>\n",
              "      <td>25</td>\n",
              "      <td>10.8</td>\n",
              "      <td>92</td>\n",
              "      <td>-9</td>\n",
              "      <td>20</td>\n",
              "      <td>20</td>\n",
              "      <td>0</td>\n",
              "      <td>15</td>\n",
              "      <td>0.0</td>\n",
              "      <td>1015</td>\n",
              "      <td>100</td>\n",
              "      <td>13</td>\n",
              "    </tr>\n",
              "    <tr>\n",
              "      <th>2189</th>\n",
              "      <td>25</td>\n",
              "      <td>10.8</td>\n",
              "      <td>100</td>\n",
              "      <td>-7</td>\n",
              "      <td>18</td>\n",
              "      <td>26</td>\n",
              "      <td>0</td>\n",
              "      <td>17</td>\n",
              "      <td>0.0</td>\n",
              "      <td>1015</td>\n",
              "      <td>49</td>\n",
              "      <td>16</td>\n",
              "    </tr>\n",
              "    <tr>\n",
              "      <th>2190</th>\n",
              "      <td>25</td>\n",
              "      <td>10.8</td>\n",
              "      <td>100</td>\n",
              "      <td>-3</td>\n",
              "      <td>19</td>\n",
              "      <td>27</td>\n",
              "      <td>0</td>\n",
              "      <td>24</td>\n",
              "      <td>0.0</td>\n",
              "      <td>1015</td>\n",
              "      <td>44</td>\n",
              "      <td>17</td>\n",
              "    </tr>\n",
              "    <tr>\n",
              "      <th>2191</th>\n",
              "      <td>28</td>\n",
              "      <td>10.8</td>\n",
              "      <td>89</td>\n",
              "      <td>4</td>\n",
              "      <td>22</td>\n",
              "      <td>28</td>\n",
              "      <td>1</td>\n",
              "      <td>33</td>\n",
              "      <td>0.0</td>\n",
              "      <td>1014</td>\n",
              "      <td>51</td>\n",
              "      <td>18</td>\n",
              "    </tr>\n",
              "  </tbody>\n",
              "</table>\n",
              "<p>2192 rows × 12 columns</p>\n",
              "</div>"
            ],
            "text/plain": [
              "      tempC  sunHour  moon_illumination  ...  pressure  winddirDegree  windspeedKmph\n",
              "0        27     10.8                 72  ...      1011             62             20\n",
              "1        25     10.9                 80  ...      1014             70             16\n",
              "2        26     10.9                 87  ...      1015             90              9\n",
              "3        27     10.9                 94  ...      1017             68             13\n",
              "4        27     10.9                100  ...      1017             65             14\n",
              "...     ...      ...                ...  ...       ...            ...            ...\n",
              "2187     29     10.8                 85  ...      1013            219             11\n",
              "2188     25     10.8                 92  ...      1015            100             13\n",
              "2189     25     10.8                100  ...      1015             49             16\n",
              "2190     25     10.8                100  ...      1015             44             17\n",
              "2191     28     10.8                 89  ...      1014             51             18\n",
              "\n",
              "[2192 rows x 12 columns]"
            ]
          },
          "metadata": {
            "tags": []
          },
          "execution_count": 17
        },
        {
          "output_type": "display_data",
          "data": {
            "image/png": "[encoded data removed]",
            "text/plain": [
              "<Figure size 432x288 with 2 Axes>"
            ]
          },
          "metadata": {
            "tags": [],
            "needs_background": "light"
          }
        }
      ]
    },
    {
      "cell_type": "markdown",
      "metadata": {
        "id": "wV9uVdMKyQaQ"
      },
      "source": [
        "**Split dataset into training and testing dataset to fit the model**"
      ]
    },
    {
      "cell_type": "code",
      "metadata": {
        "id": "pPAB7HXSyJo3"
      },
      "source": [
        "from sklearn.model_selection import train_test_split\n",
        "X_train, X_test, y_train, y_test = train_test_split(X, y, test_size = 0.2, random_state = 0)"
      ],
      "execution_count": 6,
      "outputs": []
    },
    {
      "cell_type": "markdown",
      "metadata": {
        "id": "moTZJlJFLXqr"
      },
      "source": [
        "**Apply Multiple Linear regression**"
      ]
    },
    {
      "cell_type": "code",
      "metadata": {
        "id": "N6YIFq7PyeyP",
        "colab": {
          "base_uri": "https://localhost:8080/"
        },
        "outputId": "7d604f8a-b8e7-4bbb-813c-74c1f25450a0"
      },
      "source": [
        "# Fitting multiple lineaar regression\n",
        "from sklearn.linear_model import LinearRegression\n",
        "regressor = LinearRegression()\n",
        "model=regressor.fit(X_train, y_train)\n",
        "# Predicting the test set results\n",
        "y_pred = model.predict(X_test)\n",
        "r2 = model.score(X_test, y_test)\n",
        "print(r2)"
      ],
      "execution_count": 7,
      "outputs": [
        {
          "output_type": "stream",
          "text": [
            "0.9578111192573036\n"
          ],
          "name": "stdout"
        }
      ]
    },
    {
      "cell_type": "code",
      "metadata": {
        "colab": {
          "base_uri": "https://localhost:8080/"
        },
        "id": "ZOkZgp483Ux9",
        "outputId": "3e0a8ff9-564d-4099-f527-001155fe83fa"
      },
      "source": [
        "print(regressor.coef_)\n",
        "print(regressor.intercept_)\n"
      ],
      "execution_count": 8,
      "outputs": [
        {
          "output_type": "stream",
          "text": [
            "[ 0.08584264  0.54109646 -0.0011155  -0.06459915  0.25820844  0.62116489\n",
            "  0.1784463  -0.01724362 -0.02698522 -0.02266274  0.00196584 -0.1650257 ]\n",
            "3.9617612629547594\n"
          ],
          "name": "stdout"
        }
      ]
    },
    {
      "cell_type": "code",
      "metadata": {
        "colab": {
          "base_uri": "https://localhost:8080/",
          "height": 524
        },
        "id": "6PQOjeQE5B9h",
        "outputId": "9723c9be-a90c-4d23-f7ab-ca32c1020e26"
      },
      "source": [
        "#create dataframe of actual and predicted values\n",
        "df = pd.DataFrame(y_pred, columns = ['Predicted']) \n",
        "y_test = pd.Series(y_test).array\n",
        "df['Actual'] = y_test\n",
        "print(df)\n",
        "df.plot()"
      ],
      "execution_count": 9,
      "outputs": [
        {
          "output_type": "stream",
          "text": [
            "     Predicted  Actual\n",
            "0    33.630528      33\n",
            "1    29.117661      29\n",
            "2    35.203537      34\n",
            "3    31.853404      33\n",
            "4    28.310424      28\n",
            "..         ...     ...\n",
            "434  30.105280      31\n",
            "435  31.952109      31\n",
            "436  29.553762      32\n",
            "437  27.952822      28\n",
            "438  42.144325      41\n",
            "\n",
            "[439 rows x 2 columns]\n"
          ],
          "name": "stdout"
        },
        {
          "output_type": "execute_result",
          "data": {
            "text/plain": [
              "<matplotlib.axes._subplots.AxesSubplot at 0x7f008e7fff50>"
            ]
          },
          "metadata": {
            "tags": []
          },
          "execution_count": 9
        },
        {
          "output_type": "display_data",
          "data": {
            "image/png": "[encoded data removed]",
            "text/plain": [
              "<Figure size 432x288 with 1 Axes>"
            ]
          },
          "metadata": {
            "tags": [],
            "needs_background": "light"
          }
        }
      ]
    },
    {
      "cell_type": "markdown",
      "metadata": {
        "id": "UU_3eVp9NWB0"
      },
      "source": [
        "**Apply Polynomial Regression**"
      ]
    },
    {
      "cell_type": "code",
      "metadata": {
        "id": "WJuu2NEcMRTN"
      },
      "source": [
        "from sklearn.preprocessing import PolynomialFeatures \n",
        "from sklearn.linear_model import LinearRegression\n",
        "  \n",
        "poly = PolynomialFeatures(degree = 2) #Apply Polynomial Regression with degree 2\n",
        "X_poly = poly.fit_transform(X_train) #transform input features \n",
        "poly.fit(X_poly, y_train) \n",
        "lin2 = LinearRegression() \n",
        "lin2.fit(X_poly, y_train) #train the model\n",
        "a=lin2.predict(poly.fit_transform(X_test))#test the model\n"
      ],
      "execution_count": 14,
      "outputs": []
    },
    {
      "cell_type": "code",
      "metadata": {
        "colab": {
          "base_uri": "https://localhost:8080/",
          "height": 541
        },
        "id": "xZlZ9GDfMh9b",
        "outputId": "41d9b20e-a31b-4af5-a105-e33eff2c9973"
      },
      "source": [
        "score=lin2.score(poly.fit_transform(X_test),y_test)\n",
        "print(score)\n",
        "#create dataframe of actual and predicted values\n",
        "df1 = pd.DataFrame(a, columns = ['Predicted'])\n",
        "y_test = pd.Series(y_test).array \n",
        "df1['Actual'] = y_test\n",
        "print(df1)\n",
        "df1.plot()"
      ],
      "execution_count": 15,
      "outputs": [
        {
          "output_type": "stream",
          "text": [
            "0.9649814203701663\n",
            "     Predicted  Actual\n",
            "0    33.415454      33\n",
            "1    29.337332      29\n",
            "2    35.112040      34\n",
            "3    32.106681      33\n",
            "4    29.191351      28\n",
            "..         ...     ...\n",
            "434  29.812567      31\n",
            "435  30.942735      31\n",
            "436  29.471821      32\n",
            "437  27.937796      28\n",
            "438  40.423203      41\n",
            "\n",
            "[439 rows x 2 columns]\n"
          ],
          "name": "stdout"
        },
        {
          "output_type": "execute_result",
          "data": {
            "text/plain": [
              "<matplotlib.axes._subplots.AxesSubplot at 0x7f008e1b1150>"
            ]
          },
          "metadata": {
            "tags": []
          },
          "execution_count": 15
        },
        {
          "output_type": "display_data",
          "data": {
            "image/png": "[encoded data removed]",
            "text/plain": [
              "<Figure size 432x288 with 1 Axes>"
            ]
          },
          "metadata": {
            "tags": [],
            "needs_background": "light"
          }
        }
      ]
    },
    {
      "cell_type": "markdown",
      "metadata": {
        "id": "YXGqr5NuOSaf"
      },
      "source": [
        "**Apply Ridge Regression**"
      ]
    },
    {
      "cell_type": "code",
      "metadata": {
        "colab": {
          "base_uri": "https://localhost:8080/",
          "height": 541
        },
        "id": "G8jO_bEFOQl9",
        "outputId": "fb23eefe-28aa-4e35-f180-700c2e231dbb"
      },
      "source": [
        "from sklearn.linear_model import Ridge\n",
        "ridgeReg = Ridge(alpha=0.001, normalize=True)#Apply Ridge Regression\n",
        "ridgeReg.fit(X_train,y_train)#train the model\n",
        "pred = ridgeReg.predict(X_test)\n",
        "\n",
        "#defining r square measure\n",
        "def r2(y_,y):\n",
        " sst = np.sum((y-y.mean())**2)\n",
        " ssr = np.sum((y_-y)**2)\n",
        " r2 = 1-(ssr/sst)\n",
        " return(r2)\n",
        "print(r2(pred,y_test))\n",
        "#create dataframe of actual and predicted values\n",
        "df1 = pd.DataFrame(pred, columns = ['Predicted'])\n",
        "y_test = pd.Series(y_test).array \n",
        "df1['Actual'] = y_test\n",
        "print(df1)\n",
        "df1.plot()"
      ],
      "execution_count": 27,
      "outputs": [
        {
          "output_type": "stream",
          "text": [
            "0.9577960004478047\n",
            "     Predicted  Actual\n",
            "0    33.597608      33\n",
            "1    29.122285      29\n",
            "2    35.200130      34\n",
            "3    31.866666      33\n",
            "4    28.301515      28\n",
            "..         ...     ...\n",
            "434  30.111275      31\n",
            "435  31.959628      31\n",
            "436  29.580395      32\n",
            "437  27.964745      28\n",
            "438  42.138891      41\n",
            "\n",
            "[439 rows x 2 columns]\n"
          ],
          "name": "stdout"
        },
        {
          "output_type": "execute_result",
          "data": {
            "text/plain": [
              "<matplotlib.axes._subplots.AxesSubplot at 0x7f008dbd2b90>"
            ]
          },
          "metadata": {
            "tags": []
          },
          "execution_count": 27
        },
        {
          "output_type": "display_data",
          "data": {
            "image/png": "[encoded data removed]",
            "text/plain": [
              "<Figure size 432x288 with 1 Axes>"
            ]
          },
          "metadata": {
            "tags": [],
            "needs_background": "light"
          }
        }
      ]
    },
    {
      "cell_type": "markdown",
      "metadata": {
        "id": "9OsDhVq4OmoO"
      },
      "source": [
        "**Apply Lasso Regression**"
      ]
    },
    {
      "cell_type": "code",
      "metadata": {
        "colab": {
          "base_uri": "https://localhost:8080/",
          "height": 541
        },
        "id": "UqaWUYabOlQu",
        "outputId": "2ed00116-ec7a-435d-bb57-09dbf1d8f3e9"
      },
      "source": [
        "from sklearn.linear_model import Lasso\n",
        "lassoReg = Lasso(alpha=0.0001, normalize=True)#Apply Lasso Regression\n",
        "lassoReg.fit(X_train,y_train) #train the model\n",
        "pred1 = lassoReg.predict(X_test)#test the model\n",
        "#defining r square measure\n",
        "def r2(y_,y):\n",
        " sst = np.sum((y-y.mean())**2)\n",
        " ssr = np.sum((y_-y)**2)\n",
        " r2 = 1-(ssr/sst)\n",
        " return(r2)\n",
        "print(r2(pred1,y_test))\n",
        "#create dataframe of actual and predicted values\n",
        "df1 = pd.DataFrame(pred1, columns = ['Predicted'])\n",
        "y_test = pd.Series(y_test).array \n",
        "df1['Actual'] = y_test\n",
        "print(df1)\n",
        "df1.plot()"
      ],
      "execution_count": 28,
      "outputs": [
        {
          "output_type": "stream",
          "text": [
            "0.9577173326205148\n",
            "     Predicted  Actual\n",
            "0    33.548528      33\n",
            "1    29.132162      29\n",
            "2    35.159744      34\n",
            "3    31.868343      33\n",
            "4    28.284014      28\n",
            "..         ...     ...\n",
            "434  30.125039      31\n",
            "435  31.927627      31\n",
            "436  29.635546      32\n",
            "437  27.971606      28\n",
            "438  42.062314      41\n",
            "\n",
            "[439 rows x 2 columns]\n"
          ],
          "name": "stdout"
        },
        {
          "output_type": "execute_result",
          "data": {
            "text/plain": [
              "<matplotlib.axes._subplots.AxesSubplot at 0x7f008db427d0>"
            ]
          },
          "metadata": {
            "tags": []
          },
          "execution_count": 28
        },
        {
          "output_type": "display_data",
          "data": {
            "image/png": "[encoded data removed]",
            "text/plain": [
              "<Figure size 432x288 with 1 Axes>"
            ]
          },
          "metadata": {
            "tags": [],
            "needs_background": "light"
          }
        }
      ]
    },
    {
      "cell_type": "markdown",
      "metadata": {
        "id": "Ftj7j-2SNfrr"
      },
      "source": [
        "# **Implementing regression algorithm from Scratch**"
      ]
    },
    {
      "cell_type": "markdown",
      "metadata": {
        "id": "iX50ymrodKAb"
      },
      "source": [
        "**Multiple Linear Regression without using inbuilt function:**\n",
        "\n",
        "First, we scale the features by using standardScaler from sklearn library\n",
        "\n",
        "StandardScaler standardizes a feature by subtracting the mean and then scaling to unit variance. Unit variance means dividing all the values by the standard deviation."
      ]
    },
    {
      "cell_type": "code",
      "metadata": {
        "id": "xRr5_g9Xa2-C"
      },
      "source": [
        "from sklearn.preprocessing import StandardScaler\n",
        "scale = StandardScaler()\n",
        "X = scale.fit_transform(X)"
      ],
      "execution_count": 43,
      "outputs": []
    },
    {
      "cell_type": "markdown",
      "metadata": {
        "id": "Wj5cvPWdg1L0"
      },
      "source": [
        "Now here our hypothesis function F is theta^TX, where theta is the coefficiants and X \n",
        "is input data.\n",
        "\n",
        "Design the cost function which will give the error between the output of hypothesis function and actual value which is\n",
        "\n",
        "  ![eq.JPG](data:image/jpeg;base64,/9j/4AAQSkZJRgABAQEAeAB4AAD/4RDoRXhpZgAATU0AKgAAAAgABAE7AAIAAAAKAAAISodpAAQAAAABAAAIVJydAAEAAAAUAAAQzOocAAcAAAgMAAAAPgAAAAAc6gAAAAgAAAAAAAAAAAAAAAAAAAAAAAAAAAAAAAAAAAAAAAAAAAAAAAAAAAAAAAAAAAAAAAAAAAAAAAAAAAAAAAAAAAAAAAAAAAAAAAAAAAAAAAAAAAAAAAAAAAAAAAAAAAAAAAAAAAAAAAAAAAAAAAAAAAAAAAAAAAAAAAAAAAAAAAAAAAAAAAAAAAAAAAAAAAAAAAAAAAAAAAAAAAAAAAAAAAAAAAAAAAAAAAAAAAAAAAAAAAAAAAAAAAAAAAAAAAAAAAAAAAAAAAAAAAAAAAAAAAAAAAAAAAAAAAAAAAAAAAAAAAAAAAAAAAAAAAAAAAAAAAAAAAAAAAAAAAAAAAAAAAAAAAAAAAAAAAAAAAAAAAAAAAAAAAAAAAAAAAAAAAAAAAAAAAAAAAAAAAAAAAAAAAAAAAAAAAAAAAAAAAAAAAAAAAAAAAAAAAAAAAAAAAAAAAAAAAAAAAAAAAAAAAAAAAAAAAAAAAAAAAAAAAAAAAAAAAAAAAAAAAAAAAAAAAAAAAAAAAAAAAAAAAAAAAAAAAAAAAAAAAAAAAAAAAAAAAAAAAAAAAAAAAAAAAAAAAAAAAAAAAAAAAAAAAAAAAAAAAAAAAAAAAAAAAAAAAAAAAAAAAAAAAAAAAAAAAAAAAAAAAAAAAAAAAAAAAAAAAAAAAAAAAAAAAAAAAAAAAAAAAAAAAAAAAAAAAAAAAAAAAAAAAAAAAAAAAAAAAAAAAAAAAAAAAAAAAAAAAAAAAAAAAAAAAAAAAAAAAAAAAAAAAAAAAAAAAAAAAAAAAAAAAAAAAAAAAAAAAAAAAAAAAAAAAAAAAAAAAAAAAAAAAAAAAAAAAAAAAAAAAAAAAAAAAAAAAAAAAAAAAAAAAAAAAAAAAAAAAAAAAAAAAAAAAAAAAAAAAAAAAAAAAAAAAAAAAAAAAAAAAAAAAAAAAAAAAAAAAAAAAAAAAAAAAAAAAAAAAAAAAAAAAAAAAAAAAAAAAAAAAAAAAAAAAAAAAAAAAAAAAAAAAAAAAAAAAAAAAAAAAAAAAAAAAAAAAAAAAAAAAAAAAAAAAAAAAAAAAAAAAAAAAAAAAAAAAAAAAAAAAAAAAAAAAAAAAAAAAAAAAAAAAAAAAAAAAAAAAAAAAAAAAAAAAAAAAAAAAAAAAAAAAAAAAAAAAAAAAAAAAAAAAAAAAAAAAAAAAAAAAAAAAAAAAAAAAAAAAAAAAAAAAAAAAAAAAAAAAAAAAAAAAAAAAAAAAAAAAAAAAAAAAAAAAAAAAAAAAAAAAAAAAAAAAAAAAAAAAAAAAAAAAAAAAAAAAAAAAAAAAAAAAAAAAAAAAAAAAAAAAAAAAAAAAAAAAAAAAAAAAAAAAAAAAAAAAAAAAAAAAAAAAAAAAAAAAAAAAAAAAAAAAAAAAAAAAAAAAAAAAAAAAAAAAAAAAAAAAAAAAAAAAAAAAAAAAAAAAAAAAAAAAAAAAAAAAAAAAAAAAAAAAAAAAAAAAAAAAAAAAAAAAAAAAAAAAAAAAAAAAAAAAAAAAAAAAAAAAAAAAAAAAAAAAAAAAAAAAAAAAAAAAAAAAAAAAAAAAAAAAAAAAAAAAAAAAAAAAAAAAAAAAAAAAAAAAAAAAAAAAAAAAAAAAAAAAAAAAAAAAAAAAAAAAAAAAAAAAAAAAAAAAAAAAAAAAAAAAAAAAAAAAAAAAAAAAAAAAAAAAAAAAAAAAAAAAAAAAAAAAAAAAAAAAAAAAAAAAAAAAAAAAAAAAAAAAAAAAAAAAAAAAAAAAAAAAAAAAAAAAAAAAAAAAAAAAAAAAAAAAAAAAAAAAAAAAAAAAAAAAAAAAAAAAAAAAAAAAAAAAAAAAAAAAAAAAAAAAAAAAAAAAAAAAAAAAAAAAAAAAAAAAAAAAAAAAAAAAAAAAAAAAAAAAAAAAAAAAAAAAAAAAAAAAAAAAAAAAAAAAAAAAAAAAAAAAAAAAAAAAAAAAAAAAAAAAAAAAAAAAAAAAAAAAAAAAAAAAAAAAAAAAAAAAAAAAAAAAAAAAAAAAAAAAAAAAAAAAAAAAAAAAAAAAAAAAAAAAAAAAAAAAAAAAAAAAAAAAAAAAAAAAAAAAAAAAAAAAAAAAAAAAAAAAAAAAAAAAAAAAAAAAAAAAAAAAAAAAAAAAAAAAAAAAAAAAAAAAAAAAAAAAAAAAAAAAAAAAAAAAAAAAAAAAAAAAAAAAAAAAAAAAAAAAAAAAAAAAAAAAAAAAAAAAAAAAAAAAAAAAAAAAAAAAAAAAAAAAAAAAAAAAAAAAAAAAAAAAAAAAAAAAAAAAAAAAAAAAAAAAAAAAAAAAAAAAAAAAAAAAAAAAAAAAAAAAAAAAAAAAAAAAAAAAAAAAAAAAAAAAAAAAAAAAAAAAAAAAAAAAAAAAAAAAAAAAAAAAAAAAAAAAAAAAAAAAAAAAAAAAAAAAAAAAAAAAAAAAAAAAAAAAAAAAAAAAAAAAAAAAAAAAAAAAAAAAAAAAAAAAAAAAAAAAAAAAAAAAAAAAAAAAAAAAAAAAAAAAAAAAAAAAAAAAAAAAAAAAAAAAAAAAAAAAAAAAAAAAAAAAAAAAAAAAAAAAAAAAAAAAAAAAAAAAAAAAAAAAAAAAAAAAAAAAAAAAAAAAAAAAAAAAAAAAAAAAAAAAAAAAAAAAAAAAAAAAAAAAAAAAAAAAAAAAAAAAAAAAAAAAAAAAAAAAAAAAAAAAAAAAAAAAAAAAAAAAAAAAAAAAAAAAAAAAAAAAAAAAAAAAAAAAAAAAAAAAAAAAAAAEpheSBQYXRlbAAABZADAAIAAAAUAAAQopAEAAIAAAAUAAAQtpKRAAIAAAADNzMAAJKSAAIAAAADNzMAAOocAAcAAAgMAAAIlgAAAAAc6gAAAAgAAAAAAAAAAAAAAAAAAAAAAAAAAAAAAAAAAAAAAAAAAAAAAAAAAAAAAAAAAAAAAAAAAAAAAAAAAAAAAAAAAAAAAAAAAAAAAAAAAAAAAAAAAAAAAAAAAAAAAAAAAAAAAAAAAAAAAAAAAAAAAAAAAAAAAAAAAAAAAAAAAAAAAAAAAAAAAAAAAAAAAAAAAAAAAAAAAAAAAAAAAAAAAAAAAAAAAAAAAAAAAAAAAAAAAAAAAAAAAAAAAAAAAAAAAAAAAAAAAAAAAAAAAAAAAAAAAAAAAAAAAAAAAAAAAAAAAAAAAAAAAAAAAAAAAAAAAAAAAAAAAAAAAAAAAAAAAAAAAAAAAAAAAAAAAAAAAAAAAAAAAAAAAAAAAAAAAAAAAAAAAAAAAAAAAAAAAAAAAAAAAAAAAAAAAAAAAAAAAAAAAAAAAAAAAAAAAAAAAAAAAAAAAAAAAAAAAAAAAAAAAAAAAAAAAAAAAAAAAAAAAAAAAAAAAAAAAAAAAAAAAAAAAAAAAAAAAAAAAAAAAAAAAAAAAAAAAAAAAAAAAAAAAAAAAAAAAAAAAAAAAAAAAAAAAAAAAAAAAAAAAAAAAAAAAAAAAAAAAAAAAAAAAAAAAAAAAAAAAAAAAAAAAAAAAAAAAAAAAAAAAAAAAAAAAAAAAAAAAAAAAAAAAAAAAAAAAAAAAAAAAAAAAAAAAAAAAAAAAAAAAAAAAAAAAAAAAAAAAAAAAAAAAAAAAAAAAAAAAAAAAAAAAAAAAAAAAAAAAAAAAAAAAAAAAAAAAAAAAAAAAAAAAAAAAAAAAAAAAAAAAAAAAAAAAAAAAAAAAAAAAAAAAAAAAAAAAAAAAAAAAAAAAAAAAAAAAAAAAAAAAAAAAAAAAAAAAAAAAAAAAAAAAAAAAAAAAAAAAAAAAAAAAAAAAAAAAAAAAAAAAAAAAAAAAAAAAAAAAAAAAAAAAAAAAAAAAAAAAAAAAAAAAAAAAAAAAAAAAAAAAAAAAAAAAAAAAAAAAAAAAAAAAAAAAAAAAAAAAAAAAAAAAAAAAAAAAAAAAAAAAAAAAAAAAAAAAAAAAAAAAAAAAAAAAAAAAAAAAAAAAAAAAAAAAAAAAAAAAAAAAAAAAAAAAAAAAAAAAAAAAAAAAAAAAAAAAAAAAAAAAAAAAAAAAAAAAAAAAAAAAAAAAAAAAAAAAAAAAAAAAAAAAAAAAAAAAAAAAAAAAAAAAAAAAAAAAAAAAAAAAAAAAAAAAAAAAAAAAAAAAAAAAAAAAAAAAAAAAAAAAAAAAAAAAAAAAAAAAAAAAAAAAAAAAAAAAAAAAAAAAAAAAAAAAAAAAAAAAAAAAAAAAAAAAAAAAAAAAAAAAAAAAAAAAAAAAAAAAAAAAAAAAAAAAAAAAAAAAAAAAAAAAAAAAAAAAAAAAAAAAAAAAAAAAAAAAAAAAAAAAAAAAAAAAAAAAAAAAAAAAAAAAAAAAAAAAAAAAAAAAAAAAAAAAAAAAAAAAAAAAAAAAAAAAAAAAAAAAAAAAAAAAAAAAAAAAAAAAAAAAAAAAAAAAAAAAAAAAAAAAAAAAAAAAAAAAAAAAAAAAAAAAAAAAAAAAAAAAAAAAAAAAAAAAAAAAAAAAAAAAAAAAAAAAAAAAAAAAAAAAAAAAAAAAAAAAAAAAAAAAAAAAAAAAAAAAAAAAAAAAAAAAAAAAAAAAAAAAAAAAAAAAAAAAAAAAAAAAAAAAAAAAAAAAAAAAAAAAAAAAAAAAAAAAAAAAAAAAAAAAAAAAAAAAAAAAAAAAAAAAAAAAAAAAAAAAAAAAAAAAAAAAAAAAAAAAAAAAAAAAAAAAAAAAAAAAAAAAAAAAAAAAAAAAAAAAAAAAAAAAAAAAAAAAAAAAAAAAAAAAAAAAAAAAAAAAAAAAAAAAAAAAAAAAAAAAAAAAAAAAAAAAAAAAAAAAAAAAAAAAAAAAAAAAAAAAAAAAAAAAAAAAAAAAAAAAAAAAAAAAAAAAAAAAAAAAAAAAAAAAAAAAAAAAAAAAAAAAAAAAAAAAAAAAAAAAAAAAAAAAAAAAAAAAAAAAAAAAAAAAAAAAAAAAAAAAAAAAAAAAAAAAAAAAAAAAAAAAAAAAAAAAAAAAAAAAAAAAAAAAAAAAAAAAAAAAAAAAAAAAAAAAAAAAAAAAAAAAAAAAAAAAAAAAAAAAAAAAAAAAAAAAAAAAAAAAAAAAAAAAAAAAAAAAAAAAAAAAAAAAAAAAAAAAAAAAAAAAAAAAAAAAAAAAAAAAAAAAAAAAAAAAAAAAAAAAAAAAAAAAAAAAAAAAAAAAAAAAAAAAAAAAAAAAAAAAAAAAAAAAAAAAAAAAAAAAAAAAAAAAAAAAAAAAAAAAAAAAAAAAAAAAAAAAAAAAAAAAAAAAAAAAAAAAAAAAAAAAAAAAAAAAAAAAAAAAAAAAAAAAAAAAAAAAAAAAAAAAAAAAAAAAAAAAAAAAAAAAAAAAAAAAAAAAAAAAAAAAAAAAAAAAAAAAAAAAAAAAAAAAAAAAAAAAAAAAAAAAAAAAAAAAAAAAAAAAAAAAAAAAAAAAAAAAAAAAAAAAAAAAAAAAAAAAAAAAAAAAAAAAAAAAAAAAAAAAAAAAAAAAAAAAAAAAAAAAAAAAAAAAAAAAAAAAAAAAAAAAAAAAAAAAAAAAAAAAAAAAAAAAAAAAAAAAAAAAAAAAAAAAAAAAAAAAAAAAAAAAAAAAAAAAAAAAAAAAAAAAAAAAAAAAAAAAAAAAAAAAAAAAAAAAAAAAAAAAAAAADIwMjE6MDM6MDkgMTE6MzE6NDQAMjAyMTowMzowOSAxMTozMTo0NAAAAEoAYQB5ACAAUABhAHQAZQBsAAAA/+ELHGh0dHA6Ly9ucy5hZG9iZS5jb20veGFwLzEuMC8APD94cGFja2V0IGJlZ2luPSfvu78nIGlkPSdXNU0wTXBDZWhpSHpyZVN6TlRjemtjOWQnPz4NCjx4OnhtcG1ldGEgeG1sbnM6eD0iYWRvYmU6bnM6bWV0YS8iPjxyZGY6UkRGIHhtbG5zOnJkZj0iaHR0cDovL3d3dy53My5vcmcvMTk5OS8wMi8yMi1yZGYtc3ludGF4LW5zIyI+PHJkZjpEZXNjcmlwdGlvbiByZGY6YWJvdXQ9InV1aWQ6ZmFmNWJkZDUtYmEzZC0xMWRhLWFkMzEtZDMzZDc1MTgyZjFiIiB4bWxuczpkYz0iaHR0cDovL3B1cmwub3JnL2RjL2VsZW1lbnRzLzEuMS8iLz48cmRmOkRlc2NyaXB0aW9uIHJkZjphYm91dD0idXVpZDpmYWY1YmRkNS1iYTNkLTExZGEtYWQzMS1kMzNkNzUxODJmMWIiIHhtbG5zOnhtcD0iaHR0cDovL25zLmFkb2JlLmNvbS94YXAvMS4wLyI+PHhtcDpDcmVhdGVEYXRlPjIwMjEtMDMtMDlUMTE6MzE6NDQuNzI4PC94bXA6Q3JlYXRlRGF0ZT48L3JkZjpEZXNjcmlwdGlvbj48cmRmOkRlc2NyaXB0aW9uIHJkZjphYm91dD0idXVpZDpmYWY1YmRkNS1iYTNkLTExZGEtYWQzMS1kMzNkNzUxODJmMWIiIHhtbG5zOmRjPSJodHRwOi8vcHVybC5vcmcvZGMvZWxlbWVudHMvMS4xLyI+PGRjOmNyZWF0b3I+PHJkZjpTZXEgeG1sbnM6cmRmPSJodHRwOi8vd3d3LnczLm9yZy8xOTk5LzAyLzIyLXJkZi1zeW50YXgtbnMjIj48cmRmOmxpPkpheSBQYXRlbDwvcmRmOmxpPjwvcmRmOlNlcT4NCgkJCTwvZGM6Y3JlYXRvcj48L3JkZjpEZXNjcmlwdGlvbj48L3JkZjpSREY+PC94OnhtcG1ldGE+DQogICAgICAgICAgICAgICAgICAgICAgICAgICAgICAgICAgICAgICAgICAgICAgICAgICAgICAgICAgICAgICAgICAgICAgICAgICAgICAgICAgICAgICAgICAgICAgICAgICAgCiAgICAgICAgICAgICAgICAgICAgICAgICAgICAgICAgICAgICAgICAgICAgICAgICAgICAgICAgICAgICAgICAgICAgICAgICAgICAgICAgICAgICAgICAgICAgICAgICAgICAKICAgICAgICAgICAgICAgICAgICAgICAgICAgICAgICAgICAgICAgICAgICAgICAgICAgICAgICAgICAgICAgICAgICAgICAgICAgICAgICAgICAgICAgICAgICAgICAgICAgIAogICAgICAgICAgICAgICAgICAgICAgICAgICAgICAgICAgICAgICAgICAgICAgICAgICAgICAgICAgICAgICAgICAgICAgICAgICAgICAgICAgICAgICAgICAgICAgICAgICAgCiAgICAgICAgICAgICAgICAgICAgICAgICAgICAgICAgICAgICAgICAgICAgICAgICAgICAgICAgICAgICAgICAgICAgICAgICAgICAgICAgICAgICAgICAgICAgICAgICAgICAKICAgICAgICAgICAgICAgICAgICAgICAgICAgICAgICAgICAgICAgICAgICAgICAgICAgICAgICAgICAgICAgICAgICAgICAgICAgICAgICAgICAgICAgICAgICAgICAgICAgIAogICAgICAgICAgICAgICAgICAgICAgICAgICAgICAgICAgICAgICAgICAgICAgICAgICAgICAgICAgICAgICAgICAgICAgICAgICAgICAgICAgICAgICAgICAgICAgICAgICAgCiAgICAgICAgICAgICAgICAgICAgICAgICAgICAgICAgICAgICAgICAgICAgICAgICAgICAgICAgICAgICAgICAgICAgICAgICAgICAgICAgICAgICAgICAgICAgICAgICAgICAKICAgICAgICAgICAgICAgICAgICAgICAgICAgICAgICAgICAgICAgICAgICAgICAgICAgICAgICAgICAgICAgICAgICAgICAgICAgICAgICAgICAgICAgICAgICAgICAgICAgIAogICAgICAgICAgICAgICAgICAgICAgICAgICAgICAgICAgICAgICAgICAgICAgICAgICAgICAgICAgICAgICAgICAgICAgICAgICAgICAgICAgICAgICAgICAgICAgICAgICAgCiAgICAgICAgICAgICAgICAgICAgICAgICAgICAgICAgICAgICAgICAgICAgICAgICAgICAgICAgICAgICAgICAgICAgICAgICAgICAgICAgICAgICAgICAgICAgICAgICAgICAKICAgICAgICAgICAgICAgICAgICAgICAgICAgICAgICAgICAgICAgICAgICAgICAgICAgICAgICAgICAgICAgICAgICAgICAgICAgICAgICAgICAgICAgICAgICAgICAgICAgIAogICAgICAgICAgICAgICAgICAgICAgICAgICAgICAgICAgICAgICAgICAgICAgICAgICAgICAgICAgICAgICAgICAgICAgICAgICAgICAgICAgICAgICAgICAgICAgICAgICAgCiAgICAgICAgICAgICAgICAgICAgICAgICAgICAgICAgICAgICAgICAgICAgICAgICAgICAgICAgICAgICAgICAgICAgICAgICAgICAgICAgICAgICAgICAgICAgICAgICAgICAKICAgICAgICAgICAgICAgICAgICAgICAgICAgICAgICAgICAgICAgICAgICAgICAgICAgICAgICAgICAgICAgICAgICAgICAgICAgICAgICAgICAgICAgICAgICAgICAgICAgIAogICAgICAgICAgICAgICAgICAgICAgICAgICAgICAgICAgICAgICAgICAgICAgICAgICAgICAgICAgICAgICAgICAgICAgICAgICAgICAgICAgICAgICAgICAgICAgICAgICAgCiAgICAgICAgICAgICAgICAgICAgICAgICAgICAgICAgICAgICAgICAgICAgICAgICAgICAgICAgICAgICAgICAgICAgICAgICAgICAgICAgICAgICAgICAgICAgICAgICAgICAKICAgICAgICAgICAgICAgICAgICAgICAgICAgICAgICAgICAgICAgICAgICAgICAgICAgICAgICAgICAgICAgICAgICAgICAgICAgICAgICAgICAgICAgICAgICAgICAgICAgIAogICAgICAgICAgICAgICAgICAgICAgICAgICAgICAgICAgICAgICAgICAgICAgICAgICAgICAgICAgICAgICAgICAgICAgICAgICAgICAgICAgICAgICAgICAgICAgICAgICAgCiAgICAgICAgICAgICAgICAgICAgICAgICAgICAgICAgICAgICAgICAgICAgICAgICAgICAgICAgICAgICAgICAgICAgICAgICAgICAgICAgICAgICAgICAgICAgICAgICAgICAKICAgICAgICAgICAgICAgICAgICAgICAgICAgIDw/eHBhY2tldCBlbmQ9J3cnPz7/2wBDAAcFBQYFBAcGBQYIBwcIChELCgkJChUPEAwRGBUaGRgVGBcbHichGx0lHRcYIi4iJSgpKywrGiAvMy8qMicqKyr/2wBDAQcICAoJChQLCxQqHBgcKioqKioqKioqKioqKioqKioqKioqKioqKioqKioqKioqKioqKioqKioqKioqKioqKir/wAARCABXASIDASIAAhEBAxEB/8QAHwAAAQUBAQEBAQEAAAAAAAAAAAECAwQFBgcICQoL/8QAtRAAAgEDAwIEAwUFBAQAAAF9AQIDAAQRBRIhMUEGE1FhByJxFDKBkaEII0KxwRVS0fAkM2JyggkKFhcYGRolJicoKSo0NTY3ODk6Q0RFRkdISUpTVFVWV1hZWmNkZWZnaGlqc3R1dnd4eXqDhIWGh4iJipKTlJWWl5iZmqKjpKWmp6ipqrKztLW2t7i5usLDxMXGx8jJytLT1NXW19jZ2uHi4+Tl5ufo6erx8vP09fb3+Pn6/8QAHwEAAwEBAQEBAQEBAQAAAAAAAAECAwQFBgcICQoL/8QAtREAAgECBAQDBAcFBAQAAQJ3AAECAxEEBSExBhJBUQdhcRMiMoEIFEKRobHBCSMzUvAVYnLRChYkNOEl8RcYGRomJygpKjU2Nzg5OkNERUZHSElKU1RVVldYWVpjZGVmZ2hpanN0dXZ3eHl6goOEhYaHiImKkpOUlZaXmJmaoqOkpaanqKmqsrO0tba3uLm6wsPExcbHyMnK0tPU1dbX2Nna4uPk5ebn6Onq8vP09fb3+Pn6/9oADAMBAAIRAxEAPwD6RooooAKKKKACiiigAooooAKKKKACiiigAooooAKKKKACisOTxt4YiuzayeINNW4FyLQxfak3Cbj5MZ65IH1OOtblABRRRQAUUUUAFFFFABRRRQAUUUUAFFFFABRRRQAUUUUAFFFFABRRRQAUUUUAFFFFABRRRQAUUUUAFFFFABWXc+JtGs/ENloVxqMC6rfbjb2YbMjBVLkkD7o2qeTgHGOtalefeK7W3t/i34Akt4IonnvL95WRApkb7EwyxHU4AGT2AoA9BooooAKKK8L+LVtrXgrxpZ+MH1PXr7whcyiLU9Ot9WuYRaMRgOnlyKQp6gdN3HG4YAOt1T4d6pcyatd2UumJe3+tWt3iVGMZtLYIYoWAGfvpvIHB6ZGc16MgYRqJCGfA3FRgE+w5xXJ6f4S8Parptvf6dqeu3FrcxrLDKniTUCHUjII/f1leIfAuoW2q+Hr/AMJarry/ZtVhbULabXLiWKa1z8+5ZZSDjA4HUEjBoA9CooooAKKKKACiiigAooooAKKKKACiiigAooooAKKKKACiiigAooooAKKKKACs7VvEWi6AIzrusWGmiUkRm8ukh34643EZrRryXTLjw9qHjfxta+NpI31O+uxpVtYSBjM1gYlC+Uq/OFcu5Zl4BGSRjNAHpGo+JND0iCCfVtZ0+xiuBmGS5ukjWUf7JYjPXtUmoa3pWk6et/qmp2dlZsQFuLm4WOM55GGYgc15Jfavpei+MPHs2uqr6r9lh07Q9MdC8s1uYcKsC9WV5Gbdt4BHOKr6u1t4T8P+ENNvNZtdM8U+FdKjvoI9RANreb0aKSAHOTINuAV5GQQDk4APRvEPxL8K+G9Bt9XutXtbm2u5BHa/ZbiNzcHcFYodwUhdwLHOAOvaujsNQstVsY73S7uC9tZQTHPbyrJG+Dg4ZSQeQR+FeT69daVYWPw2S7so/Dmk3eotrN0kpIS1nELziEk4wTLKcDj7uABjFet2tzFeWcN1bljFPGsiFkKkqRkZUgEHB6EZoAlorz/UvC+uXGq3c0Gmb4pJndG/4TnVLfcCxIPlJGVj/wB1SQOg4FbnhHSNQ0r7Z/aVp9n83Zs/4qG71Tdjdn/j4RfL6j7ud3f7ooA6Suc1nwHoOv6zBquqR30l5bNvt3j1S5iEDbQpKKkgVCQOcAZ79auaro19qN0stn4l1TSkVAphs47VkY5J3HzYXbPOODjgcdc0v+EX1f8A6HvxB/340/8A+RaAOijjEUSRqWKooUFmLHA9SeSfc06ub/4RfV/+h78Qf9+NP/8AkWl8daTquteGJbTQphDdEk7jIR8uxgV2cLJnO3a5C85J+UUAdHVbUtNs9Y0y407U7dLm0uozFNC44dSMEVz/AMO9E1fQPCUFjr8xnulVPmM5fCiNQE2/dj2427UJU43ZyxrqaAPDvA1/efB/x+fh54inaTw/qcjS6DfynhSx5iJ6AknGP7xBxh69xrzHXrOD4qeN7fSVgSTw/wCGbwTX15jm4u1HFvG3YKDlyPYcda9OoA5vXPEV1H4js/DWgRwSarcwtdSy3IJis7dWCmRlBBcljtVQRk5JIA5zPiD8RLPwfNpulw32mw6tqc6In2+cJHawnO6eQZB2jaQBldx4B4NR6ORF8dvEyXeTNPo9jJZn0hV5VkH/AH2RTdQP9rfHvR7XP7vQtGnvjjn95O4iAPp8qOfx96AG+Ktc8Q6Z4K0+yuL6xGva9qSaZbXmnRssUSSO2JlVmY5EKlupAbuRyelgj0DwPoUUMt1a6ZZBwvnXlwE82Ru7O5+Z2xkknJrl/iOrx+Nvh7du+22TWmhfrgu8LhP5EfjWp8Qhp2o6Dc6BJDb3mr6pay21jatgyDepRpe5RFzln7YxySAQDpF1Owa/msVvbc3cEYlltxKvmRoejMucgH1Ncz4V8Sz63pdx4v1S/i0/QJA/2K3lCxqsCsQLiWRuQzYyACFCkZ3HkZfw7u7LxD8Ixb6RO7ajNYlNQlcHet48ZV97dCwYdOqqEGAMVl2mtrafsqm8trciS10BrN4lXlJkQwsSMdnBJ/GgDqPtHirUPBUGrabqWk3GqR+ZPHDp372yvo9x2R72+YEqAN6kAMTwRxVHxBPH4q+HVv418Lu1vqlrZG/sJh97hdz28gH3lbBRlPGeeoBrd8JzaXp3w+077HeRSabp1ksRu1BWNliXazgkDK/KTuHBHIJrmvhvBJpv7P8AYm+Uwf8AEvuLk7+MI7SSKT/wFgaAO28P6xD4h8N6drFqNsN/bR3CLuztDqG2k+ozj8K0K4r4OwTW/wAHPDKXIIc2KuM5+6xLL/46RWpN4a1WWeSRPG2uwqzFhGkNgVQE9Bm2JwPck+9AHQ1U/tXTv7W/sv7fa/2h5fnfZPOXztmcbtmc7ffGKh0jTLvTVlF5rl/q5kI2m9S3Xy8Z+75MSdc989OMVxXxHFr4c8SeEvFUVpukg1WS2nS3iG+f7Rbsg6Y3NujjAz7UAdRqHjXQbHwvqOvxalb31jp+VmaylWb94MYi+U43ksowe7Cqd7rur6Z4MkvtZutB0jV7pttlDf3Bjt4pGGUhkkJzIwwxJULnBAHGTyXjDQz4e+GlhJfon73xFaanrnl9GMl0rygH0BZVB44UVqfF68tIbPwxa6lIkVlca/bvcySrlBHEGlKn3YoFAHJzigDb1XxBqfhzVNNbWY7SbSL6WK0e4t1ZHtLh+FLAkho2f5QflKllznOQ/UfEN9oXiuytNWit20jVphbWd3FlXt59pIjlBJDB8NtZcYOFI5BrG+Mrm4+EOoi3D+bcSWiwIVKuztcRbQAeQ2e3UU/4t7m8N6RFAT9pl1/T1twDhi/nqeD2OATn2NAEXjO1vJfEEQ0jxJqNvqQkgnEKTqlpY2ysPNeZcYYOA4AfJLcDAViPQKwNR8C+GNX1VtT1PQ7O6vXKlp5Y8sdoAX8sCt+gAooooAKKKKACiiigAooooAKKKKACiiigDmPFvhrR9Wnh1XxReyjSdNgkeWzlnKWrE4/eyDI3FQDjPAya43wvda/4T+DWravZwxrBHc3d/psGrSyZtdPALxIV+8SQvC5GN+c8YPWeN/DWs+JJtLXTb2xjsrSY3FxZ30DyR3TjHl7gjKSqn5tucEhcg4qnqvg7xD4i8Da9ouu63bNdavcoyyW0LrFbwARBolVmJ5EbnOeshNAFfQvHGv6h4o8O2WpaXaW1trmmSXvkoztPa7BGQzn7uGL4C4yO5zxXoNcrc+Er1viRbeJbHUora2j01bCS1NtuYqJfM+Rt2FDcA/KeF4weR1VABXFeN9fv7i+t/BvhOby9c1JC810oyNNtejTt/tH7qDjLHOeOe1ryHxR8APB3ifxdc6nrWvayNS1N3mEIu4RkLjIRWjJ2qCo74GKAPTPD2gaf4Y0G10fR4fKtLVNqA8sx6lmPdicknuTWf4y8XQ+EbGwleD7Vc6hqEFjbWwk2NI0jhSRwegJOMc4A4zmvNP8AhlTwR/0FfEH/AIEQf/Gas6L+zn4H0DxVpt7a6xq76hZTJfQW811Cd/lOpyVEQJXdtBxjqOeaAPSNc8N/2lqVlq+n3X9n6vYhkhufL8xXjbG+KRMjehwDgEEEAgjnMPh7ws+k65rGt6jfLf6nqzxh5I4PKjiijXCRopZiMZYkk8k9q6KigDB8Z+Gz4p8OvZwTi1voJY7uxuiM+RcRsGjfHpkYPsTV/RrrULvTI5NY0/8As+9HyyxLKsiEj+JGB5U9sgH1Aq/RQAVlaf4etNK1i9v9PkmgW+JkuLRWHkvMSMzBSMq5AwdpAPUgnmtWigDK1/w9beJLVLPUp7kWO7M9pE4RLof3JDjcV/2QQD0ORxWZ400zVdd0f/hG9IiFraaghhvb/eoFvb9HRE6l2XKjjaMkk8AHqKKAIbS0gsLGCzs4xFb28axRRjoiqMAfgBU1FFABWBb+Hr2XXWv9d1b+0obe4ebTrVbYRLa7hgbiCfMZQSAxxjc3BOCN+igCpqul2et6TdaZqcC3FpdxNFNE3RlIwfoffqKh0PT7zStMWyvtRbUvJO2GeWMLKYwBtEhBw7juwC544zknRooAwdR8NHWPEdlf6re+dY6dILizsEi2qJwCBLI2SXK5O0AKBnPJAIJ/DJ1DxZb6zqt6bmHT8tp1ksWyOB2Xa0rnJMj4JAPAUE4Gea3qKACiiigAooooAKKKKACiiigAooooAKKKKACiiigAooooAKKKKACuFklvJ/i3qkATVGhTRY47dP3iW5kZpC7rJjahwsa5HzZJ44OO6ooA800rw74mg1iyludP1NIY7hGkZ/GE8yhQwJJjMYDjH8JPPShrzR7D4+QSW9pcRyy6XPaXNylhMVe4eeBkVpNmCNqtznauMZFel0UAFFFFABRRRQAUUUUAFFFFABRRRQAUUUUAFFFFABRRRQAUUUUAFFFFABRRRQAUUUUAFFFFABRRRQAUUUUAFFFFABRRRQAUUUUAFFFFABRRRQAUUUUAFFFFABRRRQAUUUUAFFFFABRRRQAUUUUAFFFFABRRRQB//9k=) "
      ]
    },
    {
      "cell_type": "code",
      "metadata": {
        "id": "m7xEUN058sby"
      },
      "source": [
        "#defining cost function\n",
        "def cost(X, Y, theta):\n",
        " n = len(Y)\n",
        " F=X.dot(theta)\n",
        " cost = np.sum((F- Y) ** 2)/(2 * n)\n",
        " return cost"
      ],
      "execution_count": 44,
      "outputs": []
    },
    {
      "cell_type": "markdown",
      "metadata": {
        "id": "zIrfWbfQhLsO"
      },
      "source": [
        "alpha = learning rate\n",
        "\n",
        "iter = number of iterations"
      ]
    },
    {
      "cell_type": "code",
      "metadata": {
        "id": "p5qfFMuY9Bhf"
      },
      "source": [
        "#define gradiant descent algorithm\n",
        "def GradientDescent(X, Y, theta, alpha, iter):\n",
        " cost_history = [0] * iter\n",
        " n = len(Y)\n",
        " \n",
        " for iteration in range(iter):\n",
        " # Hypothesis function\n",
        "  F = X.dot(theta)\n",
        " # Difference between Hypothesis function value and Actual value Y\n",
        "  diff = F - Y\n",
        " # Gradient Calculation\n",
        "  gradient = X.T.dot(diff) / n\n",
        " # Changing Values of theta using Gradient\n",
        "  theta = theta - alpha * gradient\n",
        " # save the cost on each iteration\n",
        "  cost_iter = cost(X, Y, theta)\n",
        "  cost_history[iteration] = cost\n",
        " \n",
        " return theta, cost_history"
      ],
      "execution_count": 45,
      "outputs": []
    },
    {
      "cell_type": "markdown",
      "metadata": {
        "id": "m_2VglR7nYgN"
      },
      "source": [
        "Splitting training and testing sets"
      ]
    },
    {
      "cell_type": "code",
      "metadata": {
        "id": "YeeFlKHd9unc"
      },
      "source": [
        "m = 1800 #number of raws for training\n",
        "f = 11 #number of features\n",
        "#splitting into training and testing \n",
        "X_train = X[:m,:f]\n",
        "X_train = np.c_[np.ones(len(X_train),dtype='int64'),X_train]\n",
        "y_train = y[:m]\n",
        "X_test = X[m:,:f]\n",
        "X_test = np.c_[np.ones(len(X_test),dtype='int64'),X_test]\n",
        "y_test = y[m:]"
      ],
      "execution_count": 55,
      "outputs": []
    },
    {
      "cell_type": "markdown",
      "metadata": {
        "id": "rNy0K0cInjbe"
      },
      "source": [
        "Initializing Coefficients and apply gradient descent function to find the values of parameters for the model"
      ]
    },
    {
      "cell_type": "code",
      "metadata": {
        "id": "vGnUx387-Q3n"
      },
      "source": [
        "B = np.zeros(X_train.shape[1])\n",
        "alpha = 0.3\n",
        "iter_ = 5000\n",
        "final_theta, cost_history = GradientDescent(X_train, y_train, B, alpha, iter_)#apply gradiant descent algorithm"
      ],
      "execution_count": 63,
      "outputs": []
    },
    {
      "cell_type": "markdown",
      "metadata": {
        "id": "Q3RNIdCpoQgP"
      },
      "source": [
        "Define the function to predict the output based on the finded parameters"
      ]
    },
    {
      "cell_type": "code",
      "metadata": {
        "id": "SQMIIeA--hLx"
      },
      "source": [
        "def pred(x,thetas):\n",
        "    return np.dot(x,thetas)"
      ],
      "execution_count": 57,
      "outputs": []
    },
    {
      "cell_type": "markdown",
      "metadata": {
        "id": "86fTXKQpodH2"
      },
      "source": [
        "predict the output for test data"
      ]
    },
    {
      "cell_type": "code",
      "metadata": {
        "id": "eICUFGeX_7Vx"
      },
      "source": [
        "y_ = pred(X_test,final_theta)"
      ],
      "execution_count": 64,
      "outputs": []
    },
    {
      "cell_type": "markdown",
      "metadata": {
        "id": "tZXJiiqUokOR"
      },
      "source": [
        "Implementation of R^2 for accuracy:"
      ]
    },
    {
      "cell_type": "code",
      "metadata": {
        "id": "deql1PJiAIZ-",
        "colab": {
          "base_uri": "https://localhost:8080/"
        },
        "outputId": "2259ff1d-8b18-45cc-e493-9171ffeccbe3"
      },
      "source": [
        "#defining r square measure\n",
        "def r2(y_,y):\n",
        " sst = np.sum((y-y.mean())**2)\n",
        " ssr = np.sum((y_-y)**2)\n",
        " r2 = 1-(ssr/sst)\n",
        " return(r2)\n",
        "r2(y_,y_test)"
      ],
      "execution_count": 65,
      "outputs": [
        {
          "output_type": "execute_result",
          "data": {
            "text/plain": [
              "0.9535249235814518"
            ]
          },
          "metadata": {
            "tags": []
          },
          "execution_count": 65
        }
      ]
    },
    {
      "cell_type": "markdown",
      "metadata": {
        "id": "b8StXRs_o1Ar"
      },
      "source": [
        "To find the best learning rate for gradiant descent algorithm "
      ]
    },
    {
      "cell_type": "code",
      "metadata": {
        "colab": {
          "base_uri": "https://localhost:8080/",
          "height": 391
        },
        "id": "976oDyaUaUeF",
        "outputId": "3940b6ed-716e-4e83-d983-e743e3f9a75e"
      },
      "source": [
        "#To find the best learning rate for gradiant descent algorithm\n",
        "alpha=0.2;\n",
        "for i in range(1,10):\n",
        "  iter_ = 3000\n",
        "  final_theta, cost_history = GradientDescent(X_train, y_train, B, alpha, iter_)\n",
        "  y_ = pred(X_test,final_theta)\n",
        "  r=r2(y_,y_test)\n",
        "  print(alpha,\"-\",r)\n",
        "  alpha=alpha+0.01;\n",
        "  "
      ],
      "execution_count": 62,
      "outputs": [
        {
          "output_type": "stream",
          "text": [
            "0.2 - 0.9535246251000289\n",
            "0.21000000000000002 - 0.9535247224807264\n"
          ],
          "name": "stdout"
        },
        {
          "output_type": "error",
          "ename": "KeyboardInterrupt",
          "evalue": "ignored",
          "traceback": [
            "\u001b[0;31m---------------------------------------------------------------------------\u001b[0m",
            "\u001b[0;31mKeyboardInterrupt\u001b[0m                         Traceback (most recent call last)",
            "\u001b[0;32m<ipython-input-62-258220d69bd9>\u001b[0m in \u001b[0;36m<module>\u001b[0;34m()\u001b[0m\n\u001b[1;32m      2\u001b[0m \u001b[0;32mfor\u001b[0m \u001b[0mi\u001b[0m \u001b[0;32min\u001b[0m \u001b[0mrange\u001b[0m\u001b[0;34m(\u001b[0m\u001b[0;36m1\u001b[0m\u001b[0;34m,\u001b[0m\u001b[0;36m10\u001b[0m\u001b[0;34m)\u001b[0m\u001b[0;34m:\u001b[0m\u001b[0;34m\u001b[0m\u001b[0;34m\u001b[0m\u001b[0m\n\u001b[1;32m      3\u001b[0m   \u001b[0miter_\u001b[0m \u001b[0;34m=\u001b[0m \u001b[0;36m3000\u001b[0m\u001b[0;34m\u001b[0m\u001b[0;34m\u001b[0m\u001b[0m\n\u001b[0;32m----> 4\u001b[0;31m   \u001b[0mfinal_theta\u001b[0m\u001b[0;34m,\u001b[0m \u001b[0mcost_history\u001b[0m \u001b[0;34m=\u001b[0m \u001b[0mGradientDescent\u001b[0m\u001b[0;34m(\u001b[0m\u001b[0mX_train\u001b[0m\u001b[0;34m,\u001b[0m \u001b[0my_train\u001b[0m\u001b[0;34m,\u001b[0m \u001b[0mB\u001b[0m\u001b[0;34m,\u001b[0m \u001b[0malpha\u001b[0m\u001b[0;34m,\u001b[0m \u001b[0miter_\u001b[0m\u001b[0;34m)\u001b[0m\u001b[0;34m\u001b[0m\u001b[0;34m\u001b[0m\u001b[0m\n\u001b[0m\u001b[1;32m      5\u001b[0m   \u001b[0my_\u001b[0m \u001b[0;34m=\u001b[0m \u001b[0mpred\u001b[0m\u001b[0;34m(\u001b[0m\u001b[0mX_test\u001b[0m\u001b[0;34m,\u001b[0m\u001b[0mfinal_theta\u001b[0m\u001b[0;34m)\u001b[0m\u001b[0;34m\u001b[0m\u001b[0;34m\u001b[0m\u001b[0m\n\u001b[1;32m      6\u001b[0m   \u001b[0mr\u001b[0m\u001b[0;34m=\u001b[0m\u001b[0mr2\u001b[0m\u001b[0;34m(\u001b[0m\u001b[0my_\u001b[0m\u001b[0;34m,\u001b[0m\u001b[0my_test\u001b[0m\u001b[0;34m)\u001b[0m\u001b[0;34m\u001b[0m\u001b[0;34m\u001b[0m\u001b[0m\n",
            "\u001b[0;32m<ipython-input-45-6024cbed46d7>\u001b[0m in \u001b[0;36mGradientDescent\u001b[0;34m(X, Y, theta, alpha, iter)\u001b[0m\n\u001b[1;32m      5\u001b[0m  \u001b[0;32mfor\u001b[0m \u001b[0miteration\u001b[0m \u001b[0;32min\u001b[0m \u001b[0mrange\u001b[0m\u001b[0;34m(\u001b[0m\u001b[0miter\u001b[0m\u001b[0;34m)\u001b[0m\u001b[0;34m:\u001b[0m\u001b[0;34m\u001b[0m\u001b[0;34m\u001b[0m\u001b[0m\n\u001b[1;32m      6\u001b[0m  \u001b[0;31m# Hypothesis function\u001b[0m\u001b[0;34m\u001b[0m\u001b[0;34m\u001b[0m\u001b[0;34m\u001b[0m\u001b[0m\n\u001b[0;32m----> 7\u001b[0;31m   \u001b[0mF\u001b[0m \u001b[0;34m=\u001b[0m \u001b[0mX\u001b[0m\u001b[0;34m.\u001b[0m\u001b[0mdot\u001b[0m\u001b[0;34m(\u001b[0m\u001b[0mtheta\u001b[0m\u001b[0;34m)\u001b[0m\u001b[0;34m\u001b[0m\u001b[0;34m\u001b[0m\u001b[0m\n\u001b[0m\u001b[1;32m      8\u001b[0m  \u001b[0;31m# Difference between Hypothesis function value and Actual value Y\u001b[0m\u001b[0;34m\u001b[0m\u001b[0;34m\u001b[0m\u001b[0;34m\u001b[0m\u001b[0m\n\u001b[1;32m      9\u001b[0m   \u001b[0mdiff\u001b[0m \u001b[0;34m=\u001b[0m \u001b[0mF\u001b[0m \u001b[0;34m-\u001b[0m \u001b[0mY\u001b[0m\u001b[0;34m\u001b[0m\u001b[0;34m\u001b[0m\u001b[0m\n",
            "\u001b[0;31mKeyboardInterrupt\u001b[0m: "
          ]
        }
      ]
    },
    {
      "cell_type": "markdown",
      "metadata": {
        "id": "SHiZyfvbpCC3"
      },
      "source": [
        "Create dataframe for actual and predicted output values.\n",
        "Plot the output of predicted values and actual values"
      ]
    },
    {
      "cell_type": "code",
      "metadata": {
        "id": "NDdvfFDeBJWr",
        "colab": {
          "base_uri": "https://localhost:8080/",
          "height": 524
        },
        "outputId": "77f315b8-bdb4-41a1-8027-a0a4e02837c1"
      },
      "source": [
        "#Create dataframe for actual and predicted output values.\n",
        "df = pd.DataFrame(y_, columns = ['Predicted']) \n",
        "y_test = pd.Series(y_test).array\n",
        "df['Actual'] = y_test\n",
        "print(df)\n",
        "df.plot()\n"
      ],
      "execution_count": 66,
      "outputs": [
        {
          "output_type": "stream",
          "text": [
            "     Predicted  Actual\n",
            "0    30.630565      30\n",
            "1    30.580448      29\n",
            "2    30.643046      31\n",
            "3    29.455127      31\n",
            "4    30.796820      32\n",
            "..         ...     ...\n",
            "387  30.375503      29\n",
            "388  27.080652      25\n",
            "389  24.940404      25\n",
            "390  25.926034      25\n",
            "391  27.823779      28\n",
            "\n",
            "[392 rows x 2 columns]\n"
          ],
          "name": "stdout"
        },
        {
          "output_type": "execute_result",
          "data": {
            "text/plain": [
              "<matplotlib.axes._subplots.AxesSubplot at 0x7f008c5f8e10>"
            ]
          },
          "metadata": {
            "tags": []
          },
          "execution_count": 66
        },
        {
          "output_type": "display_data",
          "data": {
            "image/png": "[encoded data removed]",
            "text/plain": [
              "<Figure size 432x288 with 1 Axes>"
            ]
          },
          "metadata": {
            "tags": [],
            "needs_background": "light"
          }
        }
      ]
    },
    {
      "cell_type": "markdown",
      "metadata": {
        "id": "ns4qt3BeM5DT"
      },
      "source": [
        "**Implementation of ridge regression**"
      ]
    },
    {
      "cell_type": "code",
      "metadata": {
        "id": "zjR7ZeCVYcl_"
      },
      "source": [
        "#Cost function for ridge regression\n",
        "def costFunctionReg(X,y,theta,lamda):\n",
        "    m = len(y) \n",
        "    J = 0\n",
        "    f = X @ theta\n",
        "    J_regularizer = (lamda / (2*m)) * np.sum(np.square(theta))\n",
        "    J = float((1./(2*m)) * (f - y).T @ (f - y)) + J_regularizer;\n",
        "    return(J)\n",
        "\n",
        "#'Gradient descent for ridge regression\n",
        "def gradient_descent_reg(X,y,theta,alpha,lamda,num_iters):\n",
        "    #Initialisation of useful values \n",
        "    m = np.size(y)\n",
        "    J_history = np.zeros(num_iters)\n",
        "\n",
        "    for i in range(num_iters):\n",
        "        #Hypothesis function\n",
        "        f = np.dot(X,theta)\n",
        "        theta = theta - alpha * (1/m)* ((X.T @ (f-y)) + lamda * theta )      \n",
        "        J_history[i] = costFunctionReg(X,y,theta,lamda)\n",
        "  \n",
        "    return theta ,J_history"
      ],
      "execution_count": 67,
      "outputs": []
    },
    {
      "cell_type": "markdown",
      "metadata": {
        "id": "NvR2Zvv8DVi8"
      },
      "source": [
        "First, we scale the features by using standardScaler from sklearn library\n",
        "\n",
        "StandardScaler standardizes a feature by subtracting the mean and then scaling to unit variance. Unit variance means dividing all the values by the standard deviation."
      ]
    },
    {
      "cell_type": "code",
      "metadata": {
        "id": "NS1Gvx0nGZYb"
      },
      "source": [
        "from sklearn.preprocessing import StandardScaler\n",
        "scale = StandardScaler()\n",
        "X = scale.fit_transform(X)\n",
        "\n",
        "m = 1800 #number of raws for training\n",
        "f = 11 #number of features\n",
        "#splitting into training and testing \n",
        "X_train = X[:m,:f]\n",
        "X_train = np.c_[np.ones(len(X_train),dtype='int64'),X_train]\n",
        "y_train = y[:m]\n",
        "X_test = X[m:,:f]\n",
        "X_test = np.c_[np.ones(len(X_test),dtype='int64'),X_test]\n",
        "y_test = y[m:]\n"
      ],
      "execution_count": null,
      "outputs": []
    },
    {
      "cell_type": "markdown",
      "metadata": {
        "id": "PM0yKtnGDqz1"
      },
      "source": [
        "Initializing Coefficients and apply gradient descent function to find the values of parameters for the model"
      ]
    },
    {
      "cell_type": "code",
      "metadata": {
        "colab": {
          "base_uri": "https://localhost:8080/"
        },
        "id": "6pE6_Q-0YkWj",
        "outputId": "8d70d3de-2804-4c6f-9ab8-85ba3e246ca9"
      },
      "source": [
        "B = np.zeros(X_train.shape[1])\n",
        "alpha = 0.03\n",
        "lemda = 0.1\n",
        "iter_ = 5000\n",
        "final_theta, cost_history = gradient_descent_reg(X_train, y_train, B,alpha,lemda,iter_)\n",
        "print(final_theta)\n",
        "def pred(x,theta):\n",
        "    return np.dot(x,theta)\n",
        "\n",
        "#prediction for test data\n",
        "y_ = pred(X_test,final_theta)\n"
      ],
      "execution_count": 68,
      "outputs": [
        {
          "output_type": "stream",
          "text": [
            "[34.65655174  0.10980167  0.5973263  -0.04857889 -0.5723474   1.51038454\n",
            "  2.6834329   0.46049225 -0.55290502 -0.53333753 -0.14939045  0.18160576]\n"
          ],
          "name": "stdout"
        }
      ]
    },
    {
      "cell_type": "code",
      "metadata": {
        "colab": {
          "base_uri": "https://localhost:8080/",
          "height": 541
        },
        "id": "yljCDdDAHWGh",
        "outputId": "c23033a4-2df7-4c6d-8ab1-f7f560228cf7"
      },
      "source": [
        "def r2(y_,y):\n",
        " sst = np.sum((y-y.mean())**2)\n",
        " ssr = np.sum((y_-y)**2)\n",
        " r2 = 1-(ssr/sst)\n",
        " return(r2)\n",
        "print(r2(y_,y_test))\n",
        "#Create dataframe for actual and predicted output values.\n",
        "df1 = pd.DataFrame(y_, columns = ['Predicted'])\n",
        "y_test = pd.Series(y_test).array \n",
        "df1['Actual'] = y_test\n",
        "print(df1)\n",
        "df1.plot()"
      ],
      "execution_count": 69,
      "outputs": [
        {
          "output_type": "stream",
          "text": [
            "0.9533228753397867\n",
            "     Predicted  Actual\n",
            "0    30.648793      30\n",
            "1    30.595495      29\n",
            "2    30.653079      31\n",
            "3    29.467255      31\n",
            "4    30.803017      32\n",
            "..         ...     ...\n",
            "387  30.395052      29\n",
            "388  27.090054      25\n",
            "389  24.961634      25\n",
            "390  25.946412      25\n",
            "391  27.834211      28\n",
            "\n",
            "[392 rows x 2 columns]\n"
          ],
          "name": "stdout"
        },
        {
          "output_type": "execute_result",
          "data": {
            "text/plain": [
              "<matplotlib.axes._subplots.AxesSubplot at 0x7f008c593f10>"
            ]
          },
          "metadata": {
            "tags": []
          },
          "execution_count": 69
        },
        {
          "output_type": "display_data",
          "data": {
            "image/png": "[encoded data removed]",
            "text/plain": [
              "<Figure size 432x288 with 1 Axes>"
            ]
          },
          "metadata": {
            "tags": [],
            "needs_background": "light"
          }
        }
      ]
    },
    {
      "cell_type": "markdown",
      "metadata": {
        "id": "peIYVNQ1cR4O"
      },
      "source": [
        "**Implementation of Lasso regression**"
      ]
    },
    {
      "cell_type": "code",
      "metadata": {
        "id": "Uyy87rS-i5es"
      },
      "source": [
        "#Cost function for lasso regression\n",
        "def costFunctionReg(X,y,theta,lamda):\n",
        "    m = len(y) \n",
        "    J = 0\n",
        "    f = X @ theta\n",
        "    J_regularizer = (lamda / (2*m)) * np.sum(theta)\n",
        "    J = float((1./(2*m)) * (f - y).T @ (f - y)) + J_regularizer;\n",
        "    return(J)\n",
        "\n",
        "#'Gradient descent for lasso regression\n",
        "def gradient_descent_reg(X,y,theta,alpha,lamda,num_iters):\n",
        "    m = np.size(y)\n",
        "    J_history = np.zeros(num_iters)\n",
        "    for i in range(num_iters):\n",
        "        #Hypothesis function\n",
        "        f = np.dot(X,theta)\n",
        "        theta = theta - alpha * (1/m)* (  (X.T @ (h-y)) + lamda)      \n",
        "        J_history[i] = costFunctionReg(X,y,theta,lamda)\n",
        "  \n",
        "    return theta ,J_history"
      ],
      "execution_count": 70,
      "outputs": []
    },
    {
      "cell_type": "markdown",
      "metadata": {
        "id": "XJOC7QFmEjE9"
      },
      "source": [
        "First, we scale the features by using standardScaler from sklearn library\n",
        "\n",
        "StandardScaler standardizes a feature by subtracting the mean and then scaling to unit variance. Unit variance means dividing all the values by the standard deviation."
      ]
    },
    {
      "cell_type": "code",
      "metadata": {
        "colab": {
          "base_uri": "https://localhost:8080/"
        },
        "id": "FhNiIc1nV7Lh",
        "outputId": "812cd76d-103c-4c75-febf-b02a72a53632"
      },
      "source": [
        "from sklearn.preprocessing import StandardScaler\n",
        "scale = StandardScaler()\n",
        "X = scale.fit_transform(X)\n",
        "\n",
        "m = 1800 #number of raws for training\n",
        "f = 11 #number of features\n",
        "#splitting into training and testing \n",
        "X_train = X[:m,:f]\n",
        "X_train = np.c_[np.ones(len(X_train),dtype='int64'),X_train]\n",
        "y_train = y[:m]\n",
        "X_test = X[m:,:f]\n",
        "X_test = np.c_[np.ones(len(X_test),dtype='int64'),X_test]\n",
        "y_test = y[m:]"
      ],
      "execution_count": null,
      "outputs": [
        {
          "output_type": "stream",
          "text": [
            "      sunHour  moon_illumination  ...  winddirDegree  windspeedKmph\n",
            "0        10.8                 72  ...             62             20\n",
            "1        10.9                 80  ...             70             16\n",
            "2        10.9                 87  ...             90              9\n",
            "3        10.9                 94  ...             68             13\n",
            "4        10.9                100  ...             65             14\n",
            "...       ...                ...  ...            ...            ...\n",
            "2187     10.8                 85  ...            219             11\n",
            "2188     10.8                 92  ...            100             13\n",
            "2189     10.8                100  ...             49             16\n",
            "2190     10.8                100  ...             44             17\n",
            "2191     10.8                 89  ...             51             18\n",
            "\n",
            "[2192 rows x 11 columns]\n",
            "0       27\n",
            "1       25\n",
            "2       26\n",
            "3       27\n",
            "4       27\n",
            "        ..\n",
            "2187    29\n",
            "2188    25\n",
            "2189    25\n",
            "2190    25\n",
            "2191    28\n",
            "Name: tempC, Length: 2192, dtype: int64\n",
            "2192\n"
          ],
          "name": "stdout"
        }
      ]
    },
    {
      "cell_type": "markdown",
      "metadata": {
        "id": "QgCVMy7yE7JR"
      },
      "source": [
        "Initializing Coefficients and apply gradient descent function to find the values of parameters for the model"
      ]
    },
    {
      "cell_type": "code",
      "metadata": {
        "colab": {
          "base_uri": "https://localhost:8080/"
        },
        "id": "DMepzIaWV_-K",
        "outputId": "c15c5a1f-b1a3-4d84-cf27-62468448a99e"
      },
      "source": [
        "B = np.zeros(X_train.shape[1])\n",
        "alpha = 0.01\n",
        "lemda = 0.1\n",
        "iter_ = 5000\n",
        "final_theta, cost_history = gradient_descent_reg(X_train, y_train, B,alpha,lemda,iter_)\n",
        "print(final_theta)\n",
        "def pred(x,theta):\n",
        "    return np.dot(x,theta)\n",
        "\n",
        "\n",
        "y_ = pred(X_test,final_theta)"
      ],
      "execution_count": 72,
      "outputs": [
        {
          "output_type": "stream",
          "text": [
            "[34.65881172  0.10569153  0.63405912 -0.04449095 -0.35849496  1.52740423\n",
            "  2.53117443  0.45409318 -0.49974639 -0.77791346 -0.13819799  0.19615296]\n"
          ],
          "name": "stdout"
        }
      ]
    },
    {
      "cell_type": "code",
      "metadata": {
        "colab": {
          "base_uri": "https://localhost:8080/",
          "height": 541
        },
        "id": "eRUIr6oCWG7y",
        "outputId": "266fd25e-4afc-46a9-e51f-722511ce5527"
      },
      "source": [
        "def r2(y_,y):\n",
        " sst = np.sum((y-y.mean())**2)\n",
        " ssr = np.sum((y_-y)**2)\n",
        " r2 = 1-(ssr/sst)\n",
        " return(r2)\n",
        "print(r2(y_,y_test))\n",
        "#Create dataframe for actual and predicted output values.\n",
        "df1 = pd.DataFrame(y_, columns = ['Predicted'])\n",
        "y_test = pd.Series(y_test).array \n",
        "df1['Actual'] = y_test\n",
        "print(df1)\n",
        "df1.plot()"
      ],
      "execution_count": 73,
      "outputs": [
        {
          "output_type": "stream",
          "text": [
            "0.952817876097923\n",
            "     Predicted  Actual\n",
            "0    30.704529      30\n",
            "1    30.649016      29\n",
            "2    30.685140      31\n",
            "3    29.514034      31\n",
            "4    30.836952      32\n",
            "..         ...     ...\n",
            "387  30.448525      29\n",
            "388  27.072974      25\n",
            "389  24.982669      25\n",
            "390  25.984878      25\n",
            "391  27.852032      28\n",
            "\n",
            "[392 rows x 2 columns]\n"
          ],
          "name": "stdout"
        },
        {
          "output_type": "execute_result",
          "data": {
            "text/plain": [
              "<matplotlib.axes._subplots.AxesSubplot at 0x7f008c517450>"
            ]
          },
          "metadata": {
            "tags": []
          },
          "execution_count": 73
        },
        {
          "output_type": "display_data",
          "data": {
            "image/png": "[encoded data removed]",
            "text/plain": [
              "<Figure size 432x288 with 1 Axes>"
            ]
          },
          "metadata": {
            "tags": [],
            "needs_background": "light"
          }
        }
      ]
    }
  ]
}